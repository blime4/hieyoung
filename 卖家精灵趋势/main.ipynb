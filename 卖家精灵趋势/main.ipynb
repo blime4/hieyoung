{
 "cells": [
  {
   "cell_type": "code",
   "execution_count": 8,
   "metadata": {},
   "outputs": [],
   "source": [
    "import requests\n",
    "from lxml import etree\n",
    "# format_url = \"https://www.sellersprite.com/v2/keyword-miner?station=US&order.field=searches&order.desc=true&keywords=dog%20life%20jacket\"\n",
    "format_url = \"https://www.sellersprite.com/v2/keyword-miner?station=US&order.field=searches&order.desc=true&keywords=\""
   ]
  },
  {
   "cell_type": "code",
   "execution_count": 10,
   "metadata": {},
   "outputs": [],
   "source": [
    "keyword = \"dog life jacket\"\n",
    "key_url = format_url+keyword.replace(\" \",\"%20\")\n",
    "\n",
    "headers = {\n",
    "    \"cookie\": 'current_guest=IWgL3VniC9g1_200921-116959; rank_c_s_ind=1; _ga=GA1.2.1382221836.1600660196; ecookie=MR0dsi0GB96JUtZi_CN; _gid=GA1.2.2107440685.1603693146; SL_GWPT_Show_Hide_tmp=1; SL_wptGlobTipTmp=1; crisp-client%2Fsession%2F02ce6ae3-e1ab-4bb7-ae11-b1a839c52e78=session_49107bdd-a779-4b82-a17e-055ba43d0e96; rank-login-user=2196373061IrZXNTSoIlHhPKyHGfg/7Yru76q6n4vo7TvQW2uhQJc5TGRm9os8tO44nye78row; ao_lo_to_n=\"2196373061IrZXNTSoIlHhPKyHGfg/7TaMAJAIZFwSEIlRfIyYPdsLe/3K5tRkUzoxeY/xPGHblGZyr3sfTBBF3xFG7ZNarS13EmH2W3nkngjLAcR2MOA=\"; JSESSIONID=3BB725A1B569D7A499F87E99B966DDBE; _gat_gtag_UA_135032196_1=1; crisp-client%2Fsocket%2F02ce6ae3-e1ab-4bb7-ae11-b1a839c52e78=1',\n",
    "    \"user-agent\": \"Mozilla/5.0 (Windows NT 10.0; Win64; x64) AppleWebKit/537.36 (KHTML, like Gecko) Chrome/86.0.4240.111 Safari/537.36\"\n",
    "}\n",
    "response = requests.get(key_url, headers=headers)\n"
   ]
  },
  {
   "cell_type": "code",
   "execution_count": null,
   "metadata": {},
   "outputs": [],
   "source": []
  }
 ],
 "metadata": {
  "kernelspec": {
   "display_name": "Python [conda env:selenium]",
   "language": "python",
   "name": "conda-env-selenium-py"
  },
  "language_info": {
   "codemirror_mode": {
    "name": "ipython",
    "version": 3
   },
   "file_extension": ".py",
   "mimetype": "text/x-python",
   "name": "python",
   "nbconvert_exporter": "python",
   "pygments_lexer": "ipython3",
   "version": "3.7.9"
  }
 },
 "nbformat": 4,
 "nbformat_minor": 4
}
