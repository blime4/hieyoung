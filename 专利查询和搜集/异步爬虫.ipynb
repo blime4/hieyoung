{
 "cells": [
  {
   "cell_type": "code",
   "execution_count": 1,
   "metadata": {},
   "outputs": [],
   "source": [
    "import asyncio\n",
    "import aiohttp\n",
    "import pandas\n",
    "import nest_asyncio\n",
    "nest_asyncio.apply()"
   ]
  },
  {
   "cell_type": "code",
   "execution_count": 2,
   "metadata": {},
   "outputs": [],
   "source": [
    "headers = {\n",
    "    \"User-Agent\":\"Mozilla/5.0 (Windows NT 10.0; Win64; x64) AppleWebKit/537.36 (KHTML, like Gecko) Chrome/85.0.4183.121 Safari/537.36\"\n",
    "}\n",
    "\n",
    "import time\n",
    "import pandas as pd\n",
    "from bs4 import BeautifulSoup"
   ]
  },
  {
   "cell_type": "code",
   "execution_count": 3,
   "metadata": {},
   "outputs": [],
   "source": [
    "SURL = \"http://patft.uspto.gov/netacgi/nph-Parser?Sect1=PTO2&Sect2=HITOFF&p=page_change&u=%2Fnetahtml%2FPTO%2Fsearch-bool.html&r=0&f=S&l=50&TERM1=search_change&FIELD1=&co1=AND&TERM2=&FIELD2=&d=PTXT\"\n",
    "key_words = [\"wall plant\",\"Plant hanger\",\"plant holder\"]\n",
    "# key_words = [\"wall plant\"]"
   ]
  },
  {
   "cell_type": "code",
   "execution_count": 4,
   "metadata": {},
   "outputs": [],
   "source": [
    "key_urls = {}\n",
    "for key_word in key_words:\n",
    "    key_words_url = SURL\n",
    "    key_words_url = key_words_url.replace(\"search_change\",str(key_word))\n",
    "    url_1 = key_words_url\n",
    "    url_1 = url_1.replace(\"page_change\",\"1\")\n",
    "    key_urls[key_word]=url_1"
   ]
  },
  {
   "cell_type": "code",
   "execution_count": 5,
   "metadata": {},
   "outputs": [],
   "source": [
    "url_lst_failed = []\n",
    "url_lst_successed = []\n",
    "pages_key_urls = {}\n",
    "\n",
    "async def get_page(session,key):\n",
    "    async with session.get(key_urls[key], timeout=300) as resp:\n",
    "        if resp.status != 200:\n",
    "            url_lst_failed.append(key_urls[key])\n",
    "        else:\n",
    "            url_lst_successed.append(key_urls[key])\n",
    "        return await resp.text(),key"
   ]
  },
  {
   "cell_type": "code",
   "execution_count": 6,
   "metadata": {},
   "outputs": [],
   "source": [
    "async def parser(html,key):\n",
    "    page_a = []\n",
    "    page_img = []\n",
    "    page_href = []\n",
    "    soup = BeautifulSoup(html, 'html.parser')\n",
    "    total_len = soup.find(\"body\").find_all(\"i\")[1].find_all(\"strong\")[2].get_text()\n",
    "    page_num = int(float(total_len)/50.5)+2\n",
    "    print(key+\"一共\"+total_len+\"个论文，共\"+str(page_num-1)+\"页\")\n",
    "    if page_num >= 2:\n",
    "        for i in range(2,page_num):\n",
    "            key_words_url = SURL\n",
    "            key_words_url = key_words_url.replace(\"search_change\",str(key))\n",
    "            url_i = key_words_url\n",
    "            url_i = url_i.replace(\"page_change\",str(i))\n",
    "            if key not in pages_key_urls:\n",
    "                pages_key_urls[key] = [url_i]\n",
    "            else:\n",
    "                pages_key_urls[key].append(url_i)\n",
    "    soup_tb = soup.find_all(\"table\")\n",
    "    for tb in soup_tb:\n",
    "        for tr in tb.find_all(\"tr\"):\n",
    "            valign_top = list(tr.find_all(\"td\",attrs={\"valign\":\"top\"}))\n",
    "            if len(valign_top)>=2:\n",
    "                num = valign_top[1].get_text().replace(\",\",\"\")\n",
    "                img = \"https://pdfpiw.uspto.gov/.piw?Docid=\"+str(num)\n",
    "                top = valign_top[2]\n",
    "                href = \"http://patft.uspto.gov/\"+str(top.a.get(\"href\"))\n",
    "                a = top.get_text()\n",
    "                a = a.replace(\"\\n\",\" \")\n",
    "                page_a.append(a)\n",
    "                page_img.append(img)\n",
    "                page_href.append(href)\n",
    "    page_dict = {\"标题\":page_a,\"专利链接\":page_href,\"图片链接\":page_img}\n",
    "    page_df = pd.DataFrame(page_dict)\n",
    "    page_df.to_csv(key+\".csv\",index=None)\n",
    "    print(\"导出\"+key+\"第一页\")\n"
   ]
  },
  {
   "cell_type": "code",
   "execution_count": 7,
   "metadata": {},
   "outputs": [],
   "source": [
    "async def get_page_s(session,key,url):\n",
    "    async with session.get(url, timeout=60) as resp:\n",
    "        if resp.status != 200:\n",
    "            url_lst_failed.append(url)\n",
    "        else:\n",
    "            url_lst_successed.append(url)\n",
    "        return await resp.text(),key"
   ]
  },
  {
   "cell_type": "code",
   "execution_count": 8,
   "metadata": {},
   "outputs": [],
   "source": [
    "async def parser_s(html,key):\n",
    "    page_a = []\n",
    "    page_img = []\n",
    "    page_href = []\n",
    "    soup = BeautifulSoup(html, 'html.parser')\n",
    "    soup_tb = soup.find_all(\"table\")\n",
    "    for tb in soup_tb:\n",
    "        for tr in tb.find_all(\"tr\"):\n",
    "            valign_top = list(tr.find_all(\"td\",attrs={\"valign\":\"top\"}))\n",
    "            if len(valign_top)>=2:\n",
    "                num = valign_top[1].get_text().replace(\",\",\"\")\n",
    "                img = \"https://pdfpiw.uspto.gov/.piw?Docid=\"+str(num)\n",
    "                top = valign_top[2]\n",
    "                href = \"http://patft.uspto.gov/\"+str(top.a.get(\"href\"))\n",
    "                a = top.get_text()\n",
    "                a = a.replace(\"\\n\",\" \")\n",
    "                page_a.append(a)\n",
    "                page_img.append(img)\n",
    "                page_href.append(href)\n",
    "    page_dict = {\"标题\":page_a,\"专利链接\":page_href,\"图片链接\":page_img}\n",
    "    page_df = pd.DataFrame(page_dict)\n",
    "    page_df.to_csv(key+\".csv\",index=None,mode='a',header=False)\n",
    "    print(key+\" +1\")"
   ]
  },
  {
   "cell_type": "code",
   "execution_count": 9,
   "metadata": {},
   "outputs": [],
   "source": [
    "async def download(key):\n",
    "    async with aiohttp.ClientSession() as session:\n",
    "        html,key = await get_page(session,key)\n",
    "        await parser(html,key)"
   ]
  },
  {
   "cell_type": "code",
   "execution_count": 10,
   "metadata": {},
   "outputs": [],
   "source": [
    "async def download_s(key,url):\n",
    "    async with aiohttp.ClientSession() as session:\n",
    "        html,key = await get_page_s(session,key,url)\n",
    "        await parser_s(html,key)"
   ]
  },
  {
   "cell_type": "code",
   "execution_count": 11,
   "metadata": {
    "scrolled": true
   },
   "outputs": [
    {
     "name": "stdout",
     "output_type": "stream",
     "text": [
      "Plant hanger一共127个论文，共3页\n",
      "导出Plant hanger第一页\n",
      "plant holder一共249个论文，共5页\n",
      "导出plant holder第一页\n",
      "wall plant一共441个论文，共9页\n",
      "导出wall plant第一页\n",
      "plant holder +1\n",
      "wall plant +1\n",
      "Plant hanger +1\n",
      "Plant hanger +1\n",
      "wall plant +1\n",
      "plant holder +1\n",
      "plant holder +1\n",
      "wall plant +1\n",
      "plant holder +1\n",
      "wall plant +1\n",
      "wall plant +1\n",
      "wall plant +1\n",
      "wall plant +1\n",
      "wall plant +1\n",
      "########################################\n",
      "总共耗时36.6012704372406秒\n"
     ]
    }
   ],
   "source": [
    "start = time.time()\n",
    "\n",
    "tasks = [asyncio.ensure_future(download(key)) for key in key_urls]\n",
    "loop = asyncio.get_event_loop()\n",
    "loop.run_until_complete(asyncio.wait(tasks))\n",
    "\n",
    "tasks_s = []\n",
    "for key in pages_key_urls:\n",
    "    for url in pages_key_urls[key]:\n",
    "        tasks_s.append(asyncio.ensure_future(download_s(key,url)))\n",
    "loop_s = asyncio.get_event_loop()\n",
    "loop_s.run_until_complete(asyncio.wait(tasks_s))\n",
    "print(\"#\"*40)\n",
    "end = time.time()\n",
    "print('总共耗时{}秒'.format(end-start))"
   ]
  },
  {
   "cell_type": "code",
   "execution_count": null,
   "metadata": {},
   "outputs": [],
   "source": []
  }
 ],
 "metadata": {
  "kernelspec": {
   "display_name": "Python [conda env:py37]",
   "language": "python",
   "name": "conda-env-py37-py"
  },
  "language_info": {
   "codemirror_mode": {
    "name": "ipython",
    "version": 3
   },
   "file_extension": ".py",
   "mimetype": "text/x-python",
   "name": "python",
   "nbconvert_exporter": "python",
   "pygments_lexer": "ipython3",
   "version": "3.7.9"
  }
 },
 "nbformat": 4,
 "nbformat_minor": 4
}
