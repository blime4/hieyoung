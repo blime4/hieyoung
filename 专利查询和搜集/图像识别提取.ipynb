{
 "cells": [
  {
   "cell_type": "code",
   "execution_count": 24,
   "metadata": {},
   "outputs": [],
   "source": [
    "import cv2\n",
    "import numpy as np\n",
    "\n",
    "\n",
    "image = cv2.imread(\"./png/4337916.png\")\n",
    "gray = cv2.cvtColor(image, cv2.COLOR_BGR2GRAY)\n",
    "# cv2.namedWindow('Image', cv2.WINDOW_NORMAL) \n",
    "# cv2.imshow(\"Image\", gray)\n",
    "# cv2.waitKey(0)\n",
    "\n"
   ]
  },
  {
   "cell_type": "code",
   "execution_count": 25,
   "metadata": {},
   "outputs": [],
   "source": [
    "gradX = cv2.Sobel(gray, ddepth=cv2.CV_32F, dx=1, dy=0, ksize=-1)\n",
    "gradY = cv2.Sobel(gray, ddepth=cv2.CV_32F, dx=0, dy=1, ksize=-1)\n",
    "\n",
    "gradient = cv2.subtract(gradX, gradY)\n",
    "gradient = cv2.convertScaleAbs(gradient)\n",
    "# cv2.namedWindow('Image', cv2.WINDOW_KEEPRATIO)\n",
    "# cv2.imshow(\"Image\", gradient)\n",
    " \n",
    "# cv2.waitKey(0)\n",
    "\n"
   ]
  },
  {
   "cell_type": "code",
   "execution_count": 26,
   "metadata": {},
   "outputs": [],
   "source": [
    "blurred = cv2.blur(gradient, (30,30))\n",
    "(_, thresh) = cv2.threshold(blurred, 90, 255, cv2.THRESH_BINARY)\n",
    "\n",
    "# cv2.namedWindow('Image', cv2.WINDOW_KEEPRATIO)\n",
    "# cv2.imshow(\"Image\", thresh)\n",
    " \n",
    "# cv2.waitKey(0)\n",
    "\n"
   ]
  },
  {
   "cell_type": "code",
   "execution_count": 27,
   "metadata": {},
   "outputs": [],
   "source": [
    "kernel = cv2.getStructuringElement(cv2.MORPH_RECT, (25, 25))\n",
    "closed = cv2.morphologyEx(thresh, cv2.MORPH_CLOSE, kernel)\n",
    "\n",
    "\n",
    "closed = cv2.erode(closed, None, iterations=5)\n",
    "closed = cv2.dilate(closed, None, iterations=50)\n",
    "\n",
    "# cv2.namedWindow('Image', cv2.WINDOW_KEEPRATIO)\n",
    "# cv2.imshow(\"Image\", closed)\n",
    " \n",
    "# cv2.waitKey(0)\n",
    "\n"
   ]
  },
  {
   "cell_type": "code",
   "execution_count": 28,
   "metadata": {},
   "outputs": [],
   "source": [
    "(cnts, _) = cv2.findContours(closed.copy(), cv2.RETR_EXTERNAL, cv2.CHAIN_APPROX_SIMPLE)\n",
    "c = sorted(cnts, key=cv2.contourArea, reverse=True)[1]\n",
    " \n",
    "# compute the rotated bounding box of the largest contour\n",
    "rect = cv2.minAreaRect(c)\n",
    "box = np.int0(cv2.boxPoints(rect))\n",
    " \n",
    "# draw a bounding box arounded the detected barcode and display the image\n",
    "# cv2.drawContours(image, [box], -1, (0, 255, 0), 3)\n",
    "# cv2.namedWindow('Image', cv2.WINDOW_KEEPRATIO)\n",
    "# cv2.imshow(\"Image\", image)\n",
    "# cv2.imwrite(\"contoursImage2.jpg\", image)\n",
    "\n",
    "# cv2.waitKey(0)\n",
    "\n"
   ]
  },
  {
   "cell_type": "code",
   "execution_count": 29,
   "metadata": {},
   "outputs": [
    {
     "data": {
      "text/plain": [
       "(612, 1, 2)"
      ]
     },
     "execution_count": 29,
     "metadata": {},
     "output_type": "execute_result"
    }
   ],
   "source": [
    "c.shape"
   ]
  },
  {
   "cell_type": "code",
   "execution_count": 6,
   "metadata": {},
   "outputs": [],
   "source": [
    "Xs = [i[0] for i in box]\n",
    "Ys = [i[1] for i in box]\n",
    "x1 = min(Xs)\n",
    "x2 = max(Xs)\n",
    "y1 = min(Ys)\n",
    "y2 = max(Ys)\n",
    "hight = y2 - y1\n",
    "width = x2 - x1\n",
    "cropImg = image[y1:y1+hight, x1:x1+width]\n"
   ]
  },
  {
   "cell_type": "code",
   "execution_count": 7,
   "metadata": {},
   "outputs": [
    {
     "data": {
      "text/plain": [
       "-1"
      ]
     },
     "execution_count": 7,
     "metadata": {},
     "output_type": "execute_result"
    }
   ],
   "source": [
    "cv2.namedWindow('Image', cv2.WINDOW_KEEPRATIO)\n",
    "cv2.imshow(\"Image\", cropImg)\n",
    "cv2.imwrite(\"contoursImage2.jpg\", cropImg)\n",
    "\n",
    "cv2.waitKey(0)"
   ]
  },
  {
   "cell_type": "markdown",
   "metadata": {},
   "source": [
    "# 批量处理"
   ]
  },
  {
   "cell_type": "code",
   "execution_count": 1,
   "metadata": {},
   "outputs": [],
   "source": [
    "import cv2\n",
    "import numpy as np\n",
    "import os\n"
   ]
  },
  {
   "cell_type": "code",
   "execution_count": 114,
   "metadata": {},
   "outputs": [
    {
     "name": "stdout",
     "output_type": "stream",
     "text": [
      "ok\n"
     ]
    }
   ],
   "source": [
    "dirs = \"./png/\"\n",
    "pngs = [ dirs+i for i in os.listdir(dirs)]\n",
    "fuck = None\n",
    "for i,png in enumerate(pngs):\n",
    "    try:\n",
    "        image = cv2.imread(png)\n",
    "        gray = cv2.cvtColor(image, cv2.COLOR_BGR2GRAY)\n",
    "        gradX = cv2.Sobel(gray, ddepth=cv2.CV_32F, dx=1, dy=0, ksize=-1)\n",
    "        gradY = cv2.Sobel(gray, ddepth=cv2.CV_32F, dx=0, dy=1, ksize=-1)\n",
    "        gradient = cv2.subtract(gradX, gradY)\n",
    "        gradient = cv2.convertScaleAbs(gradient)\n",
    "        blurred = cv2.blur(gradient, (9, 9))\n",
    "        (_, thresh) = cv2.threshold(blurred, 90, 255, cv2.THRESH_BINARY)\n",
    "        kernel = cv2.getStructuringElement(cv2.MORPH_RECT, (25, 25))\n",
    "        closed = cv2.morphologyEx(thresh, cv2.MORPH_CLOSE, kernel)\n",
    "        closed = cv2.erode(closed, None, iterations=5)\n",
    "        closed = cv2.dilate(closed, None, iterations=50)\n",
    "        (cnts, _) = cv2.findContours(closed.copy(), cv2.RETR_EXTERNAL, cv2.CHAIN_APPROX_SIMPLE)\n",
    "        try:\n",
    "            c = sorted(cnts, key=cv2.contourArea, reverse=True)[1]\n",
    "        except:\n",
    "            kernel = cv2.getStructuringElement(cv2.MORPH_RECT, (25, 25))\n",
    "            closed = cv2.morphologyEx(thresh, cv2.MORPH_CLOSE, kernel)\n",
    "            closed = cv2.erode(closed, None, iterations=4)\n",
    "            closed = cv2.dilate(closed, None, iterations=40)\n",
    "            try:\n",
    "                c = sorted(cnts, key=cv2.contourArea, reverse=True)[1]\n",
    "            except:\n",
    "                h = int(image.shape[0]*0.5)\n",
    "                image = image[h:,:]\n",
    "                cv2.imwrite(\"./png_cv2/\"+str(i)+\".jpg\", image)\n",
    "                continue\n",
    "        rect = cv2.minAreaRect(c)\n",
    "        box = np.int0(cv2.boxPoints(rect))\n",
    "        # draw a bounding box arounded the detected barcode and display the image\n",
    "#         cv2.drawContours(image, [box], -1, (0, 255, 0), 3)\n",
    "        Xs = [i[0] for i in box]\n",
    "        Ys = [i[1] for i in box]\n",
    "        x1 = min(Xs) if min(Xs)>=0 else 0\n",
    "        x2 = max(Xs)\n",
    "        y1 = min(Ys) if min(Ys)>=0 else 0\n",
    "        y2 = max(Ys)\n",
    "        hight = y2 - y1\n",
    "        width = x2 - x1\n",
    "        cropImg = image[y1:y1+hight, x1:x1+width]\n",
    "        if not os.path.exists(\"png_cv2/\"):\n",
    "            os.mkdir(\"png_cv2\")\n",
    "        cv2.imwrite(\"./png_cv2/\"+str(i)+\".jpg\", cropImg)\n",
    "    except:\n",
    "        print(i,png)\n",
    "print(\"ok\")"
   ]
  },
  {
   "cell_type": "code",
   "execution_count": 32,
   "metadata": {},
   "outputs": [
    {
     "data": {
      "text/plain": [
       "58"
      ]
     },
     "execution_count": 32,
     "metadata": {},
     "output_type": "execute_result"
    }
   ],
   "source": [
    "len(pngs)"
   ]
  },
  {
   "cell_type": "code",
   "execution_count": 99,
   "metadata": {},
   "outputs": [],
   "source": [
    "dirs = \"./png/\"\n",
    "pngs = [ dirs+i for i in os.listdir(dirs)]\n",
    "try:\n",
    "    image = cv2.imread(pngs[33])\n",
    "    gray = cv2.cvtColor(image, cv2.COLOR_BGR2GRAY)\n",
    "    gradX = cv2.Sobel(gray, ddepth=cv2.CV_32F, dx=1, dy=0, ksize=-1)\n",
    "    gradY = cv2.Sobel(gray, ddepth=cv2.CV_32F, dx=0, dy=1, ksize=-1)\n",
    "    gradient = cv2.subtract(gradX, gradY)\n",
    "    gradient = cv2.convertScaleAbs(gradient)\n",
    "    blurred = cv2.blur(gradient, (9, 9))\n",
    "    (_, thresh) = cv2.threshold(blurred, 90, 255, cv2.THRESH_BINARY)\n",
    "    kernel = cv2.getStructuringElement(cv2.MORPH_RECT, (25, 25))\n",
    "    closed = cv2.morphologyEx(thresh, cv2.MORPH_CLOSE, kernel)\n",
    "    closed = cv2.erode(closed, None, iterations=5)\n",
    "    closed = cv2.dilate(closed, None, iterations=50)\n",
    "    (cnts, _) = cv2.findContours(closed.copy(), cv2.RETR_EXTERNAL, cv2.CHAIN_APPROX_SIMPLE)\n",
    "    try:\n",
    "        c = sorted(cnts, key=cv2.contourArea, reverse=True)[1]\n",
    "    except:\n",
    "        kernel = cv2.getStructuringElement(cv2.MORPH_RECT, (25, 25))\n",
    "        closed = cv2.morphologyEx(thresh, cv2.MORPH_CLOSE, kernel)\n",
    "        closed = cv2.erode(closed, None, iterations=4)\n",
    "        closed = cv2.dilate(closed, None, iterations=40)\n",
    "        try:\n",
    "            c = sorted(cnts, key=cv2.contourArea, reverse=True)[1]\n",
    "        except:\n",
    "            h = int(image.shape[0]*0.5)\n",
    "            image = image[h:,:]\n",
    "            cv2.imwrite(\"./png_cv2/\"+str(i)+\".jpg\", image)\n",
    "#                 c = sorted(cnts, key=cv2.contourArea, reverse=True)[0]\n",
    "\n",
    "    rect = cv2.minAreaRect(c)\n",
    "    box = np.int0(cv2.boxPoints(rect))\n",
    "    # draw a bounding box arounded the detected barcode and display the image\n",
    "#         cv2.drawContours(image, [box], -1, (0, 255, 0), 3)\n",
    "    Xs = [i[0] for i in box]\n",
    "    Ys = [i[1] for i in box]\n",
    "    x1 = min(Xs) if min(Xs)>=0 else 0\n",
    "    x2 = max(Xs)\n",
    "    y1 = min(Ys) if min(Ys)>=0 else 0\n",
    "    y2 = max(Ys)\n",
    "    hight = y2 - y1\n",
    "    width = x2 - x1\n",
    "    cropImg = image[y1:y1+hight, x1:x1+width]\n",
    "    if not os.path.exists(\"png_cv2/\"):\n",
    "        os.mkdir(\"png_cv2\")\n",
    "    cv2.imwrite(\"./png_cv2/\"+str(i)+\".jpg\", cropImg)\n",
    "#         cv2.namedWindow('Image', cv2.WINDOW_KEEPRATIO)\n",
    "#         cv2.imshow(\"Image\", cropImg)\n",
    "#         cv2.waitKey(0)\n",
    "except:\n",
    "    print(i,png)"
   ]
  },
  {
   "cell_type": "code",
   "execution_count": 48,
   "metadata": {},
   "outputs": [
    {
     "data": {
      "text/plain": [
       "-1"
      ]
     },
     "execution_count": 48,
     "metadata": {},
     "output_type": "execute_result"
    }
   ],
   "source": [
    "image = cv2.imread(pngs[11])\n",
    "h = int(image.shape[0]*0.4)\n",
    "image = image[h:,:]\n",
    "cv2.namedWindow('Image', cv2.WINDOW_KEEPRATIO)\n",
    "cv2.imshow(\"Image\", image)\n",
    "cv2.waitKey(0)"
   ]
  },
  {
   "cell_type": "code",
   "execution_count": 108,
   "metadata": {},
   "outputs": [
    {
     "data": {
      "text/plain": [
       "-1"
      ]
     },
     "execution_count": 108,
     "metadata": {},
     "output_type": "execute_result"
    }
   ],
   "source": [
    "image = cv2.imread(pngs[17])\n",
    "gray = cv2.cvtColor(image, cv2.COLOR_BGR2GRAY)\n",
    "cv2.namedWindow('Image', cv2.WINDOW_KEEPRATIO)\n",
    "cv2.imshow(\"Image\", gray)\n",
    "cv2.waitKey(0)\n",
    "gradX = cv2.Sobel(gray, ddepth=cv2.CV_32F, dx=1, dy=0, ksize=-1)\n",
    "gradY = cv2.Sobel(gray, ddepth=cv2.CV_32F, dx=0, dy=1, ksize=-1)\n",
    "gradient = cv2.subtract(gradX, gradY)\n",
    "gradient = cv2.convertScaleAbs(gradient)\n",
    "blurred = cv2.blur(gradient, (9, 9))\n",
    "(_, thresh) = cv2.threshold(blurred, 90, 255, cv2.THRESH_BINARY)\n",
    "kernel = cv2.getStructuringElement(cv2.MORPH_RECT, (25, 25))\n",
    "closed = cv2.morphologyEx(thresh, cv2.MORPH_CLOSE, kernel)\n",
    "closed = cv2.erode(closed, None, iterations=5)\n",
    "closed = cv2.dilate(closed, None, iterations=50)\n",
    "cv2.namedWindow('Image', cv2.WINDOW_KEEPRATIO)\n",
    "cv2.imshow(\"Image\", closed)\n",
    "cv2.waitKey(0)\n",
    "c = sorted(cnts, key=cv2.contourArea, reverse=True)[1]\n",
    "rect = cv2.minAreaRect(c)\n",
    "box = np.int0(cv2.boxPoints(rect))\n",
    "# draw a bounding box arounded the detected barcode and display the image\n",
    "cv2.drawContours(image, [box], -1, (0, 255, 0), 3)\n",
    "Xs = [i[0] for i in box]\n",
    "Ys = [i[1] for i in box]\n",
    "x1 = min(Xs) if min(Xs)>=0 else 0\n",
    "x2 = max(Xs)\n",
    "y1 = min(Ys)\n",
    "y2 = max(Ys)\n",
    "hight = y2 - y1\n",
    "width = x2 - x1\n",
    "cropImg = image[y1:y1+hight, x1:x1+width]\n",
    "# cv2.imwrite(\"./png_cv2/\"+str(i)+\".jpg\", cropImg)\n",
    "cv2.namedWindow('Image', cv2.WINDOW_KEEPRATIO)\n",
    "cv2.imshow(\"Image\", cropImg)\n",
    "cv2.waitKey(0)"
   ]
  }
 ],
 "metadata": {
  "kernelspec": {
   "display_name": "Python [conda env:py37]",
   "language": "python",
   "name": "conda-env-py37-py"
  },
  "language_info": {
   "codemirror_mode": {
    "name": "ipython",
    "version": 3
   },
   "file_extension": ".py",
   "mimetype": "text/x-python",
   "name": "python",
   "nbconvert_exporter": "python",
   "pygments_lexer": "ipython3",
   "version": "3.7.9"
  }
 },
 "nbformat": 4,
 "nbformat_minor": 4
}
