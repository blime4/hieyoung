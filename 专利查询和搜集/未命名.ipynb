{
 "cells": [
  {
   "cell_type": "code",
   "execution_count": 3,
   "metadata": {},
   "outputs": [
    {
     "name": "stderr",
     "output_type": "stream",
     "text": [
      "Exception in thread Thread-10:\n",
      "Traceback (most recent call last):\n",
      "  File \"D:\\app\\anaconda\\envs\\py37\\lib\\threading.py\", line 926, in _bootstrap_inner\n",
      "    self.run()\n",
      "  File \"D:\\app\\anaconda\\envs\\py37\\lib\\threading.py\", line 870, in run\n",
      "    self._target(*self._args, **self._kwargs)\n",
      "  File \"<ipython-input-3-11c10832a9d6>\", line 7, in clock1\n",
      "    text.configure(text = str(i))\n",
      "  File \"D:\\app\\anaconda\\envs\\py37\\lib\\tkinter\\__init__.py\", line 1485, in configure\n",
      "    return self._configure('configure', cnf, kw)\n",
      "  File \"D:\\app\\anaconda\\envs\\py37\\lib\\tkinter\\__init__.py\", line 1476, in _configure\n",
      "    self.tk.call(_flatten((self._w, cmd)) + self._options(cnf))\n",
      "RuntimeError: main thread is not in main loop\n",
      "\n"
     ]
    }
   ],
   "source": [
    "from tkinter import *\n",
    "import time\n",
    "import threading\n",
    "def clock1():\n",
    "    for i in range(1,100):\n",
    "        time.sleep(1)\n",
    "        text.configure(text = str(i))\n",
    "def timerbg():\n",
    "    timer = threading.Thread(target=clock1)\n",
    "    timer.daemon =True\n",
    "    timer.start()\n",
    "    return\n",
    "root = Tk()\n",
    "fram = Frame().pack()\n",
    "text = Label(fram,text='0')\n",
    "text.pack()\n",
    "button = Button(fram,text='timer',command=timerbg).pack()\n",
    "root.mainloop()\n"
   ]
  },
  {
   "cell_type": "code",
   "execution_count": null,
   "metadata": {},
   "outputs": [],
   "source": []
  }
 ],
 "metadata": {
  "kernelspec": {
   "display_name": "Python [conda env:py37]",
   "language": "python",
   "name": "conda-env-py37-py"
  },
  "language_info": {
   "codemirror_mode": {
    "name": "ipython",
    "version": 3
   },
   "file_extension": ".py",
   "mimetype": "text/x-python",
   "name": "python",
   "nbconvert_exporter": "python",
   "pygments_lexer": "ipython3",
   "version": "3.7.9"
  }
 },
 "nbformat": 4,
 "nbformat_minor": 4
}
