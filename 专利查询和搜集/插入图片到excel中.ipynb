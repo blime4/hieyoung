{
 "cells": [
  {
   "cell_type": "code",
   "execution_count": 11,
   "metadata": {},
   "outputs": [],
   "source": [
    "import xlsxwriter\n",
    "import xlrd\n",
    "# from PIL import Image\n",
    "# from io import BytesIO\n"
   ]
  },
  {
   "cell_type": "code",
   "execution_count": 2,
   "metadata": {},
   "outputs": [],
   "source": [
    "demo = xlrd.open_workbook(\"demo.xlsx\",on_demand=True)\n",
    "sheet_names = demo.sheet_names()"
   ]
  },
  {
   "cell_type": "code",
   "execution_count": 21,
   "metadata": {},
   "outputs": [],
   "source": [
    "final = xlsxwriter.Workbook(\"img.xlsx\")\n",
    "for sheet_name in sheet_names:\n",
    "    worksheet = final.add_worksheet(sheet_name)\n",
    "    nrows = demo.sheet_by_name(sheet_name).nrows\n",
    "    ncols = demo.sheet_by_name(sheet_name).ncols\n",
    "    i = 0\n",
    "#     cell_height = 2\n",
    "    while i<nrows:\n",
    "        worksheet.write_row(i,0,demo.sheet_by_name(sheet_name).row_values(i))\n",
    "        if i >0:\n",
    "            s = str(demo.sheet_by_name(sheet_name).cell(i,ncols-2)).replace(\"text:\",\"\").replace(\"'\",\"\")\n",
    "            png = \"image_get/\"+s+\".png\"\n",
    "#             png_ = Image.open(png)\n",
    "#             original_width,original_height = png_.size\n",
    "#             cell_width = cell_height*original_width/original_height\n",
    "#             png_.thumbnail((cell_width,cell_height),Image.ANTIALIAS)\n",
    "#             im_bytes = BytesIO()\n",
    "#             worksheet.insert_image(i,ncols,png,{'image_data': im_bytes})\n",
    "            worksheet.insert_image(i,ncols,png,{'x_scale': 0.09, 'y_scale': 0.09})\n",
    "    \n",
    "            tim = \"image_time/\"+s+\".png\"\n",
    "#             tim_ = Image.open(tim)\n",
    "#             original_width,original_height = tim_.size\n",
    "#             cell_width = cell_height*original_width/original_height\n",
    "#             tim_.thumbnail((cell_width,cell_height),Image.ANTIALIAS)\n",
    "#             im_bytes = BytesIO()\n",
    "#             worksheet.insert_image(i,ncols+1,tim,{'image_data': im_bytes})\n",
    "            worksheet.insert_image(i,ncols+1,tim,{'x_scale': 0.3, 'y_scale': 0.3})\n",
    "        i += 1\n",
    "    worksheet.write(0,ncols,\"专利图片\")\n",
    "    worksheet.write(0,ncols+1,\"授权时间\")\n",
    "    worksheet.set_default_row(80)\n",
    "    worksheet.set_column(ncols,ncols+1,25)\n",
    "final.close()"
   ]
  },
  {
   "cell_type": "code",
   "execution_count": null,
   "metadata": {},
   "outputs": [],
   "source": []
  }
 ],
 "metadata": {
  "kernelspec": {
   "display_name": "Python [conda env:py37]",
   "language": "python",
   "name": "conda-env-py37-py"
  },
  "language_info": {
   "codemirror_mode": {
    "name": "ipython",
    "version": 3
   },
   "file_extension": ".py",
   "mimetype": "text/x-python",
   "name": "python",
   "nbconvert_exporter": "python",
   "pygments_lexer": "ipython3",
   "version": "3.7.9"
  }
 },
 "nbformat": 4,
 "nbformat_minor": 4
}
