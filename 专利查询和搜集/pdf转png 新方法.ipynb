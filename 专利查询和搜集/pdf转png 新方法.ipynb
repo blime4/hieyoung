{
 "cells": [
  {
   "cell_type": "code",
   "execution_count": 7,
   "metadata": {},
   "outputs": [
    {
     "name": "stdout",
     "output_type": "stream",
     "text": [
      "[ run ]---开始pdf转png\n"
     ]
    }
   ],
   "source": [
    "import os\n",
    "import fitz\n",
    "print(\"[ run ]---开始pdf转png\")\n",
    "img_dir = \"test/pdf/\"\n",
    "png_dir = \"test/png/\"\n",
    "if not os.path.exists(png_dir):\n",
    "    os.makedirs(png_dir)\n",
    "for j,i in enumerate(os.listdir(img_dir)):\n",
    "    name = i.split(\".\")[0] + \".png\"\n",
    "    if os.path.isfile(os.path.join(png_dir,name)):\n",
    "        continue\n",
    "    try:\n",
    "        image = fitz.open(os.path.join(img_dir,i))\n",
    "        page = image[0]\n",
    "        rotate = int(0)\n",
    "        zoom_x = 1.0\n",
    "        zoom_y = 1.0\n",
    "        trans = fitz.Matrix(zoom_x,zoom_y).preRotate(rotate)\n",
    "        pm = page.getPixmap(matrix=trans,alpha=False)\n",
    "        pm.writePNG(os.path.join(png_dir,name))\n",
    "        if j % 50 == 0:\n",
    "            print(\"完成了\"+str(j)+\"个\")\n",
    "    except:\n",
    "        print(\"出错 --\"+name)\n",
    "#     print(j,i)"
   ]
  },
  {
   "cell_type": "code",
   "execution_count": null,
   "metadata": {},
   "outputs": [],
   "source": []
  }
 ],
 "metadata": {
  "kernelspec": {
   "display_name": "Python [conda env:py37]",
   "language": "python",
   "name": "conda-env-py37-py"
  },
  "language_info": {
   "codemirror_mode": {
    "name": "ipython",
    "version": 3
   },
   "file_extension": ".py",
   "mimetype": "text/x-python",
   "name": "python",
   "nbconvert_exporter": "python",
   "pygments_lexer": "ipython3",
   "version": "3.7.9"
  }
 },
 "nbformat": 4,
 "nbformat_minor": 4
}
