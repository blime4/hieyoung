{
 "cells": [
  {
   "cell_type": "code",
   "execution_count": 1,
   "metadata": {},
   "outputs": [],
   "source": [
    "import pandas as pd"
   ]
  },
  {
   "cell_type": "code",
   "execution_count": 2,
   "metadata": {},
   "outputs": [],
   "source": [
    "df = pd.read_excel(\"./plant+caddy.xlsx\")"
   ]
  },
  {
   "cell_type": "markdown",
   "metadata": {},
   "source": [
    "# 图片下载链接格式分析\n",
    "类型1：\n",
    "https://pdfpiw.uspto.gov/.piw?Docid=D564251\n",
    "\n",
    "https://pdfpiw.uspto.gov/51/642/D05/1.pdf\n",
    "\n",
    "类型2：\n",
    "https://pdfpiw.uspto.gov/.piw?Docid=7114288\n",
    "\n",
    "https://pdfpiw.uspto.gov/88/142/071/1.pdf\n",
    "\n",
    "类型3：\n",
    "https://pdfpiw.uspto.gov/.piw?Docid=PP32231\t\n",
    "\n",
    "https://pdfpiw.uspto.gov/31/322/PP0/1.pdf"
   ]
  },
  {
   "cell_type": "code",
   "execution_count": 3,
   "metadata": {},
   "outputs": [],
   "source": [
    "def img_change(img):\n",
    "    a = img.split(\"=\")[1]\n",
    "    if a[0] == \"D\":\n",
    "        a = a[0] + \"0\" + a[1:]\n",
    "    if a[:2] == \"PP\":\n",
    "        a = a[:2] + \"0\" + a[2:]\n",
    "    return \"https://pdfpiw.uspto.gov/.piw?Docid=\"+a"
   ]
  },
  {
   "cell_type": "code",
   "execution_count": 4,
   "metadata": {},
   "outputs": [],
   "source": [
    "df[\"图片链接\"] = df.apply(lambda row:img_change(row[\"图片链接\"]),axis=1)"
   ]
  },
  {
   "cell_type": "code",
   "execution_count": 5,
   "metadata": {},
   "outputs": [],
   "source": [
    "def down_url(img):\n",
    "    a = img.split(\"=\")[1]\n",
    "    one = a[-2:]\n",
    "    two = a[-5:-2]\n",
    "    three = a[-8:-5]\n",
    "    return \"https://pdfpiw.uspto.gov/\"+one+\"/\"+two+\"/\"+three+\"/1.pdf\""
   ]
  },
  {
   "cell_type": "code",
   "execution_count": 6,
   "metadata": {},
   "outputs": [],
   "source": [
    "df[\"pdf下载链接\"] = df.apply(lambda row:down_url(row[\"图片链接\"]),axis=1)"
   ]
  },
  {
   "cell_type": "markdown",
   "metadata": {},
   "source": [
    "# 批量处理"
   ]
  },
  {
   "cell_type": "code",
   "execution_count": 10,
   "metadata": {},
   "outputs": [],
   "source": [
    "import os\n",
    "path = \"./dataset/\"\n",
    "files = os.listdir(path)"
   ]
  },
  {
   "cell_type": "code",
   "execution_count": 16,
   "metadata": {},
   "outputs": [],
   "source": [
    "def data_deal(df):\n",
    "    def title_change(title):\n",
    "        if title[0] == \" \":\n",
    "            title = title[1:]\n",
    "        title = title.lower()\n",
    "        return title\n",
    "    def img_change(img):\n",
    "        a = img.split(\"=\")[1]\n",
    "        if a[0] == \"D\":\n",
    "            a = a[0] + \"0\" + a[1:]\n",
    "        elif a[:2] == \"PP\":\n",
    "            a = a[:2] + \"0\" + a[2:]\n",
    "        else:\n",
    "            while(1):\n",
    "                if len(a)>=8:\n",
    "                    break\n",
    "                a = \"0\"+a\n",
    "        return \"https://pdfpiw.uspto.gov/.piw?Docid=\"+a\n",
    "    def down_url(img):\n",
    "        a = img.split(\"=\")[1]\n",
    "        one = a[-2:]\n",
    "        two = a[-5:-2]\n",
    "        three = a[-8:-5]\n",
    "        return \"https://pdfpiw.uspto.gov/\"+one+\"/\"+two+\"/\"+three+\"/1.pdf\"\n",
    "    def patent(img):\n",
    "        a = img.split(\"=\")[1]\n",
    "        return a\n",
    "    df[\"专利号\"] = df.apply(lambda row:patent(row[\"图片链接\"]),axis=1)\n",
    "    df[\"标题\"] = df.apply(lambda row:title_change(row[\"标题\"]),axis=1)\n",
    "    df[\"图片链接\"] = df.apply(lambda row:img_change(row[\"图片链接\"]),axis=1)\n",
    "    df[\"pdf下载链接\"] = df.apply(lambda row:down_url(row[\"图片链接\"]),axis=1)\n",
    "    return df"
   ]
  },
  {
   "cell_type": "code",
   "execution_count": 17,
   "metadata": {},
   "outputs": [],
   "source": [
    "writer = pd.ExcelWriter(\"final.xlsx\")\n",
    "for file in files:\n",
    "    df = pd.read_excel(path+file)\n",
    "    key = file.split(\".\")[0]\n",
    "    df = data_deal(df)\n",
    "    df.to_excel(writer,sheet_name=key,index=None)\n",
    "writer.close()"
   ]
  },
  {
   "cell_type": "code",
   "execution_count": 1,
   "metadata": {},
   "outputs": [
    {
     "data": {
      "text/html": [
       "<div>\n",
       "<style scoped>\n",
       "    .dataframe tbody tr th:only-of-type {\n",
       "        vertical-align: middle;\n",
       "    }\n",
       "\n",
       "    .dataframe tbody tr th {\n",
       "        vertical-align: top;\n",
       "    }\n",
       "\n",
       "    .dataframe thead th {\n",
       "        text-align: right;\n",
       "    }\n",
       "</style>\n",
       "<table border=\"1\" class=\"dataframe\">\n",
       "  <thead>\n",
       "    <tr style=\"text-align: right;\">\n",
       "      <th></th>\n",
       "      <th>A</th>\n",
       "    </tr>\n",
       "  </thead>\n",
       "  <tbody>\n",
       "    <tr>\n",
       "      <th>0</th>\n",
       "      <td>1</td>\n",
       "    </tr>\n",
       "    <tr>\n",
       "      <th>1</th>\n",
       "      <td>2</td>\n",
       "    </tr>\n",
       "    <tr>\n",
       "      <th>2</th>\n",
       "      <td>3</td>\n",
       "    </tr>\n",
       "  </tbody>\n",
       "</table>\n",
       "</div>"
      ],
      "text/plain": [
       "   A\n",
       "0  1\n",
       "1  2\n",
       "2  3"
      ]
     },
     "execution_count": 1,
     "metadata": {},
     "output_type": "execute_result"
    }
   ],
   "source": [
    "import pandas as pd\n",
    "df = pd.DataFrame(pd.Series([\"1\",\"2\",\"3\"]),columns=[\"A\"])\n",
    "df"
   ]
  },
  {
   "cell_type": "code",
   "execution_count": 2,
   "metadata": {},
   "outputs": [
    {
     "data": {
      "text/html": [
       "<div>\n",
       "<style scoped>\n",
       "    .dataframe tbody tr th:only-of-type {\n",
       "        vertical-align: middle;\n",
       "    }\n",
       "\n",
       "    .dataframe tbody tr th {\n",
       "        vertical-align: top;\n",
       "    }\n",
       "\n",
       "    .dataframe thead th {\n",
       "        text-align: right;\n",
       "    }\n",
       "</style>\n",
       "<table border=\"1\" class=\"dataframe\">\n",
       "  <thead>\n",
       "    <tr style=\"text-align: right;\">\n",
       "      <th></th>\n",
       "      <th>A</th>\n",
       "      <th>B</th>\n",
       "    </tr>\n",
       "  </thead>\n",
       "  <tbody>\n",
       "    <tr>\n",
       "      <th>0</th>\n",
       "      <td>1</td>\n",
       "      <td>1</td>\n",
       "    </tr>\n",
       "    <tr>\n",
       "      <th>1</th>\n",
       "      <td>2</td>\n",
       "      <td>2</td>\n",
       "    </tr>\n",
       "    <tr>\n",
       "      <th>2</th>\n",
       "      <td>3</td>\n",
       "      <td>3</td>\n",
       "    </tr>\n",
       "  </tbody>\n",
       "</table>\n",
       "</div>"
      ],
      "text/plain": [
       "   A  B\n",
       "0  1  1\n",
       "1  2  2\n",
       "2  3  3"
      ]
     },
     "execution_count": 2,
     "metadata": {},
     "output_type": "execute_result"
    }
   ],
   "source": [
    "df[\"B\"] = df[\"A\"]\n",
    "df"
   ]
  },
  {
   "cell_type": "code",
   "execution_count": null,
   "metadata": {},
   "outputs": [],
   "source": []
  }
 ],
 "metadata": {
  "kernelspec": {
   "display_name": "Python 3",
   "language": "python",
   "name": "python3"
  },
  "language_info": {
   "codemirror_mode": {
    "name": "ipython",
    "version": 3
   },
   "file_extension": ".py",
   "mimetype": "text/x-python",
   "name": "python",
   "nbconvert_exporter": "python",
   "pygments_lexer": "ipython3",
   "version": "3.8.3"
  }
 },
 "nbformat": 4,
 "nbformat_minor": 4
}
