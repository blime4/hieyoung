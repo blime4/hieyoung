{
 "cells": [
  {
   "cell_type": "code",
   "execution_count": 14,
   "metadata": {},
   "outputs": [],
   "source": [
    "import os\n",
    "import sys\n",
    "import tkinter as tk\n",
    "import time,timeit\n",
    "import logging\n",
    "import os.path\n",
    "from logging import handlers\n",
    "\n",
    "#主界面\n",
    "window=tk.Tk() #窗口函数\n",
    "window.title('window') #窗口的名字\n",
    "window.geometry('400x400') #窗口的大小，x是字母\n",
    "\n",
    "#IP显示label和entry\n",
    "tk.Label(window,text=\"ip address:\").grid(row=0) #grid是布局，0表示放在第一行\n",
    "ip = tk.Entry(window) #设置IP entry\n",
    "ip.grid(row=0,column=1) #放在第一行，第一列\n",
    "\n",
    "#port显示label和entry\n",
    "tk.Label(window,text=\"port:\").grid(row=1) #将port放在第二行\n",
    "port = tk.Entry(window) #设置port entry\n",
    "port.grid(row=1,column=1) #放在第二行，第一列\n",
    "\n",
    "log_format = \"%(asctime)s - %(name)s - %(levelname)s - %(message)s\" #log的格式设定\n",
    "time_format = \"%Y-%m-%d %H:%M:%S\" #时间格式设定\n",
    "logging.basicConfig(filename='test.log',level=logging.INFO,format=log_format,datefmt=time_format) #log名字，等级设定，log默认生成在该py文件所在目录\n",
    "\n",
    "#ping方法\n",
    "def ping():\n",
    "    backinfo = os.system('ping -c 5 ' + ip.get()) #丢包5次\n",
    "    if backinfo == 0: #返回0为True\n",
    "        showinfo(\"connect ok\") #显示在text中\n",
    "        logging.info(\"connect ok\") #显示在log中\n",
    "    else:\n",
    "        showinfo(\"connect fail\") #显示在text中\n",
    "        logging.info(\"connect fail\") #显示在log中\n",
    "        ping_button = tk.Button(window,text=\"connect\",font=('Arial',20),command=ping).grid(row=0,column=2) #设置ping button，放在第一行，第二列\n",
    "\n",
    "#显示text定义\n",
    "text = tk.Text(window,width=50,height=50) #设置高度和宽度\n",
    "\n",
    "#定义信息显示的方法\n",
    "def showinfo(result):\n",
    "    realtime = time.strftime(\"%Y-%m-%d %H:%M:%S \")\n",
    "    textvar = realtime + result #系统时间和传入结果\n",
    "    text.insert('end',textvar) #显示在text框里面\n",
    "    text.insert('insert','\\n') #换行\n",
    "\n",
    "#定义清除方法\n",
    "def clear():\n",
    "    text.delete(0.0,tk.END) #清楚text中的内容，0.0为删除全部\n",
    "\n",
    "#显示text\n",
    "text.place(x=100,y=150) #place为布局，放在坐标为（100，150）的地方\n",
    "\n",
    "#点击方法定义\n",
    "def hit(temp):\n",
    "    if temp == \"start\":\n",
    "        showinfo(\"start testing\") #显示在text中的内容\n",
    "        showinfo(\"result is …\")\n",
    "        logging.info(\"program is running\") #显示在log中的内容\n",
    "    else:\n",
    "        showinfo(\"stop testing\") #显示在text中的内容\n",
    "        logging.info(\"program stopped\") #显示在log中的内容\n",
    "\n",
    "start_button = tk.Button(window,text=\"Start\",font=('Arial',20),command=lambda:hit(\"start\")).place(x=100,y=100) #设置开始button\n",
    "stop_button = tk.Button(window,text=\"Stop\",font=('Arial',20),command=lambda:hit(\"stop\")).place(x=200,y=100) #设置停止button\n",
    "clear_button = tk.Button(window,text='Clear',font=('Arial',20),command=clear) #设置清除button\n",
    "clear_button.place(x=300,y=100) #显示清除button\n",
    "\n",
    "window.mainloop() #界面循环"
   ]
  },
  {
   "cell_type": "markdown",
   "metadata": {},
   "source": [
    "## 我的"
   ]
  },
  {
   "cell_type": "code",
   "execution_count": null,
   "metadata": {},
   "outputs": [],
   "source": []
  }
 ],
 "metadata": {
  "kernelspec": {
   "display_name": "Python [conda env:py37]",
   "language": "python",
   "name": "conda-env-py37-py"
  },
  "language_info": {
   "codemirror_mode": {
    "name": "ipython",
    "version": 3
   },
   "file_extension": ".py",
   "mimetype": "text/x-python",
   "name": "python",
   "nbconvert_exporter": "python",
   "pygments_lexer": "ipython3",
   "version": "3.7.9"
  }
 },
 "nbformat": 4,
 "nbformat_minor": 4
}
