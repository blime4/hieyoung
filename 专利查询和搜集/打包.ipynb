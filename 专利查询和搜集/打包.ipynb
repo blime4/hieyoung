{
 "cells": [
  {
   "cell_type": "code",
   "execution_count": 1,
   "metadata": {},
   "outputs": [
    {
     "output_type": "stream",
     "name": "stderr",
     "text": [
      "69 INFO: PyInstaller: 4.0\n69 INFO: Python: 3.7.9 (conda)\n70 INFO: Platform: Windows-10-10.0.18362-SP0\n70 INFO: wrote d:\\work\\专利查询和搜集\\重写可视化.spec\n73 INFO: UPX is not available.\n74 INFO: Extending PYTHONPATH with paths\n['d:\\\\work\\\\专利查询和搜集', 'd:\\\\work\\\\专利查询和搜集']\n102 INFO: checking Analysis\n189 INFO: Building because d:\\work\\专利查询和搜集\\重写可视化.py changed\n189 INFO: Initializing module dependency graph...\n195 INFO: Caching module graph hooks...\n206 INFO: Analyzing base_library.zip ...\n2227 INFO: Processing pre-find module path hook distutils from 'd:\\\\app\\\\anaconda\\\\envs\\\\py37\\\\lib\\\\site-packages\\\\PyInstaller\\\\hooks\\\\pre_find_module_path\\\\hook-distutils.py'.\n2228 INFO: distutils: retargeting to non-venv dir 'd:\\\\app\\\\anaconda\\\\envs\\\\py37\\\\lib'\n3720 INFO: Caching module dependency graph...\n3817 INFO: running Analysis Analysis-00.toc\n3831 INFO: Adding Microsoft.Windows.Common-Controls to dependent assemblies of final executable\n  required by d:\\app\\anaconda\\envs\\py37\\python.exe\n4112 INFO: Analyzing d:\\work\\专利查询和搜集\\重写可视化.py\n4761 INFO: Processing pre-safe import module hook urllib3.packages.six.moves from 'd:\\\\app\\\\anaconda\\\\envs\\\\py37\\\\lib\\\\site-packages\\\\PyInstaller\\\\hooks\\\\pre_safe_import_module\\\\hook-urllib3.packages.six.moves.py'.\n6397 INFO: Processing pre-safe import module hook six.moves from 'd:\\\\app\\\\anaconda\\\\envs\\\\py37\\\\lib\\\\site-packages\\\\PyInstaller\\\\hooks\\\\pre_safe_import_module\\\\hook-six.moves.py'.\n11586 INFO: Processing pre-find module path hook site from 'd:\\\\app\\\\anaconda\\\\envs\\\\py37\\\\lib\\\\site-packages\\\\PyInstaller\\\\hooks\\\\pre_find_module_path\\\\hook-site.py'.\n11586 INFO: site: retargeting to fake-dir 'd:\\\\app\\\\anaconda\\\\envs\\\\py37\\\\lib\\\\site-packages\\\\PyInstaller\\\\fake-modules'\n14326 INFO: Processing pre-safe import module hook setuptools.extern.six.moves from 'd:\\\\app\\\\anaconda\\\\envs\\\\py37\\\\lib\\\\site-packages\\\\PyInstaller\\\\hooks\\\\pre_safe_import_module\\\\hook-setuptools.extern.six.moves.py'.\n50663 INFO: Processing module hooks...\n50663 INFO: Loading module hook 'hook-botocore.py' from 'd:\\\\app\\\\anaconda\\\\envs\\\\py37\\\\lib\\\\site-packages\\\\_pyinstaller_hooks_contrib\\\\hooks\\\\stdhooks'...\n51606 INFO: Loading module hook 'hook-certifi.py' from 'd:\\\\app\\\\anaconda\\\\envs\\\\py37\\\\lib\\\\site-packages\\\\_pyinstaller_hooks_contrib\\\\hooks\\\\stdhooks'...\n51611 INFO: Loading module hook 'hook-cryptography.py' from 'd:\\\\app\\\\anaconda\\\\envs\\\\py37\\\\lib\\\\site-packages\\\\_pyinstaller_hooks_contrib\\\\hooks\\\\stdhooks'...\n51891 INFO: Loading module hook 'hook-IPython.py' from 'd:\\\\app\\\\anaconda\\\\envs\\\\py37\\\\lib\\\\site-packages\\\\_pyinstaller_hooks_contrib\\\\hooks\\\\stdhooks'...\n52503 INFO: Excluding import 'PyQt5'\n52507 INFO:   Removing import of PyQt5 from module IPython.external.qt_loaders\n52507 INFO:   Removing import of PyQt5.QtCore from module IPython.external.qt_loaders\n52507 INFO:   Removing import of PyQt5.QtSvg from module IPython.external.qt_loaders\n52507 INFO:   Removing import of PyQt5.QtGui from module IPython.external.qt_loaders\n52507 INFO:   Removing import of PyQt5.QtWidgets from module IPython.external.qt_loaders\n52507 INFO: Excluding import 'PySide'\n52512 INFO:   Removing import of PySide from module IPython.external.qt_loaders\n52512 INFO: Excluding import 'gtk'\n52517 INFO: Excluding import 'tkinter'\n52521 INFO:   Removing import of tkinter from module IPython.lib.clipboard\n52522 INFO: Excluding import 'matplotlib'\n52526 INFO:   Removing import of matplotlib.pyplot from module IPython.core.pylabtools\n52526 INFO:   Removing import of matplotlib._pylab_helpers from module IPython.core.pylabtools\n52526 INFO:   Removing import of matplotlib.backend_bases from module IPython.core.pylabtools\n52526 INFO:   Removing import of matplotlib.figure from module IPython.core.pylabtools\n52526 INFO:   Removing import of matplotlib from module IPython.core.pylabtools\n52527 INFO: Excluding import 'PyQt4'\n52531 INFO:   Removing import of PyQt4 from module IPython.external.qt_loaders\n52532 INFO: Loading module hook 'hook-jedi.py' from 'd:\\\\app\\\\anaconda\\\\envs\\\\py37\\\\lib\\\\site-packages\\\\_pyinstaller_hooks_contrib\\\\hooks\\\\stdhooks'...\n54729 INFO: Loading module hook 'hook-jinja2.py' from 'd:\\\\app\\\\anaconda\\\\envs\\\\py37\\\\lib\\\\site-packages\\\\_pyinstaller_hooks_contrib\\\\hooks\\\\stdhooks'...\n54742 INFO: Loading module hook 'hook-jsonschema.py' from 'd:\\\\app\\\\anaconda\\\\envs\\\\py37\\\\lib\\\\site-packages\\\\_pyinstaller_hooks_contrib\\\\hooks\\\\stdhooks'...\n54759 INFO: Loading module hook 'hook-lxml.etree.py' from 'd:\\\\app\\\\anaconda\\\\envs\\\\py37\\\\lib\\\\site-packages\\\\_pyinstaller_hooks_contrib\\\\hooks\\\\stdhooks'...\n54760 INFO: Loading module hook 'hook-nbconvert.py' from 'd:\\\\app\\\\anaconda\\\\envs\\\\py37\\\\lib\\\\site-packages\\\\_pyinstaller_hooks_contrib\\\\hooks\\\\stdhooks'...\n54918 INFO: Loading module hook 'hook-nbformat.py' from 'd:\\\\app\\\\anaconda\\\\envs\\\\py37\\\\lib\\\\site-packages\\\\_pyinstaller_hooks_contrib\\\\hooks\\\\stdhooks'...\n54985 INFO: Loading module hook 'hook-notebook.py' from 'd:\\\\app\\\\anaconda\\\\envs\\\\py37\\\\lib\\\\site-packages\\\\_pyinstaller_hooks_contrib\\\\hooks\\\\stdhooks'...\n58505 INFO: Loading module hook 'hook-openpyxl.py' from 'd:\\\\app\\\\anaconda\\\\envs\\\\py37\\\\lib\\\\site-packages\\\\_pyinstaller_hooks_contrib\\\\hooks\\\\stdhooks'...\n58654 INFO: Loading module hook 'hook-pycparser.py' from 'd:\\\\app\\\\anaconda\\\\envs\\\\py37\\\\lib\\\\site-packages\\\\_pyinstaller_hooks_contrib\\\\hooks\\\\stdhooks'...\n58655 INFO: Loading module hook 'hook-zmq.py' from 'd:\\\\app\\\\anaconda\\\\envs\\\\py37\\\\lib\\\\site-packages\\\\_pyinstaller_hooks_contrib\\\\hooks\\\\stdhooks'...\n60818 WARNING: Hidden import \"such\" not found!\n60890 WARNING: Hidden import \"C1083:\" not found!\n60891 WARNING: Hidden import \"fatal\" not found!\n60892 WARNING: Hidden import \"file\" not found!\n60893 WARNING: Hidden import \"Cannot\" not found!\n60894 WARNING: Hidden import \"error\" not found!\n60895 WARNING: Hidden import \"'zmq.h':\" not found!\n60988 WARNING: Hidden import \"open\" not found!\n60989 WARNING: Hidden import \"file:\" not found!\n60990 WARNING: Hidden import \"_cffi_ext.c\" not found!\n60992 WARNING: Hidden import \"directory\" not found!\n61064 WARNING: Hidden import \"No\" not found!\n61065 WARNING: Hidden import \"or\" not found!\n61066 WARNING: Hidden import \"d:\\app\\anaconda\\envs\\py37\\lib\\site-packages\\zmq\\backend\\cffi\\__pycache__\\_cffi_ext.c(268):\" not found!\n61066 INFO: Loading module hook 'hook-distutils.py' from 'd:\\\\app\\\\anaconda\\\\envs\\\\py37\\\\lib\\\\site-packages\\\\PyInstaller\\\\hooks'...\n61066 INFO: Loading module hook 'hook-encodings.py' from 'd:\\\\app\\\\anaconda\\\\envs\\\\py37\\\\lib\\\\site-packages\\\\PyInstaller\\\\hooks'...\n61160 INFO: Loading module hook 'hook-lib2to3.py' from 'd:\\\\app\\\\anaconda\\\\envs\\\\py37\\\\lib\\\\site-packages\\\\PyInstaller\\\\hooks'...\n61205 INFO: Loading module hook 'hook-matplotlib.backends.py' from 'd:\\\\app\\\\anaconda\\\\envs\\\\py37\\\\lib\\\\site-packages\\\\PyInstaller\\\\hooks'...\n61844 INFO:   Matplotlib backend \"GTK3Agg\": ignored\n    backend Gtk3Agg requires cairo\n62171 INFO:   Matplotlib backend \"GTK3Cairo\": ignored\n    cairo backend requires that pycairo>=1.11.0 or cairocffiis installed\n62480 INFO:   Matplotlib backend \"MacOSX\": ignored\n    cannot import name '_macosx' from 'matplotlib.backends' (d:\\app\\anaconda\\envs\\py37\\lib\\site-packages\\matplotlib\\backends\\__init__.py)\n63393 INFO:   Matplotlib backend \"nbAgg\": added\n63837 INFO:   Matplotlib backend \"Qt4Agg\": added\n64153 INFO:   Matplotlib backend \"Qt4Cairo\": ignored\n    cairo backend requires that pycairo>=1.11.0 or cairocffiis installed\n64598 INFO:   Matplotlib backend \"Qt5Agg\": added\n64920 INFO:   Matplotlib backend \"Qt5Cairo\": ignored\n    cairo backend requires that pycairo>=1.11.0 or cairocffiis installed\n65433 INFO:   Matplotlib backend \"TkAgg\": added\n65965 INFO:   Matplotlib backend \"TkCairo\": ignored\n    cairo backend requires that pycairo>=1.11.0 or cairocffiis installed\n66472 INFO:   Matplotlib backend \"WebAgg\": added\n66978 INFO:   Matplotlib backend \"WX\": ignored\n    No module named 'wx'\n67286 INFO:   Matplotlib backend \"WXAgg\": ignored\n    No module named 'wx'\n67603 INFO:   Matplotlib backend \"WXCairo\": ignored\n    No module named 'wx'\n67981 INFO:   Matplotlib backend \"agg\": added\n68295 INFO:   Matplotlib backend \"cairo\": ignored\n    cairo backend requires that pycairo>=1.11.0 or cairocffiis installed\n68784 INFO:   Matplotlib backend \"pdf\": added\n69307 INFO:   Matplotlib backend \"pgf\": added\n69681 INFO:   Matplotlib backend \"ps\": added\n70086 INFO:   Matplotlib backend \"svg\": added\n70572 INFO:   Matplotlib backend \"template\": added\n70958 INFO: Loading module hook 'hook-matplotlib.py' from 'd:\\\\app\\\\anaconda\\\\envs\\\\py37\\\\lib\\\\site-packages\\\\PyInstaller\\\\hooks'...\n71289 INFO: Loading module hook 'hook-numpy.core.py' from 'd:\\\\app\\\\anaconda\\\\envs\\\\py37\\\\lib\\\\site-packages\\\\PyInstaller\\\\hooks'...\n71390 INFO: MKL libraries found when importing numpy. Adding MKL to binaries\n71394 INFO: Loading module hook 'hook-numpy.py' from 'd:\\\\app\\\\anaconda\\\\envs\\\\py37\\\\lib\\\\site-packages\\\\PyInstaller\\\\hooks'...\n71395 INFO: Loading module hook 'hook-pandas.py' from 'd:\\\\app\\\\anaconda\\\\envs\\\\py37\\\\lib\\\\site-packages\\\\PyInstaller\\\\hooks'...\n72271 INFO: Loading module hook 'hook-PIL.Image.py' from 'd:\\\\app\\\\anaconda\\\\envs\\\\py37\\\\lib\\\\site-packages\\\\PyInstaller\\\\hooks'...\n72710 INFO: Loading module hook 'hook-PIL.py' from 'd:\\\\app\\\\anaconda\\\\envs\\\\py37\\\\lib\\\\site-packages\\\\PyInstaller\\\\hooks'...\n72714 INFO: Excluding import 'PyQt5'\n72717 INFO:   Removing import of PyQt5.QtCore from module PIL.ImageQt\n72718 INFO:   Removing import of PyQt5.QtGui from module PIL.ImageQt\n72718 INFO: Excluding import 'PySide'\n72721 INFO: Import to be excluded not found: 'FixTk'\n72721 INFO: Excluding import 'tkinter'\n72724 INFO:   Removing import of tkinter from module PIL.ImageTk\n72725 INFO: Excluding import 'PyQt4'\n72728 INFO: Loading module hook 'hook-PIL.SpiderImagePlugin.py' from 'd:\\\\app\\\\anaconda\\\\envs\\\\py37\\\\lib\\\\site-packages\\\\PyInstaller\\\\hooks'...\n72731 INFO: Import to be excluded not found: 'FixTk'\n72731 INFO: Excluding import 'tkinter'\n72734 INFO: Loading module hook 'hook-pkg_resources.py' from 'd:\\\\app\\\\anaconda\\\\envs\\\\py37\\\\lib\\\\site-packages\\\\PyInstaller\\\\hooks'...\n73604 INFO: Processing pre-safe import module hook win32com from 'd:\\\\app\\\\anaconda\\\\envs\\\\py37\\\\lib\\\\site-packages\\\\_pyinstaller_hooks_contrib\\\\hooks\\\\pre_safe_import_module\\\\hook-win32com.py'.\n73786 WARNING: Hidden import \"pkg_resources.py2_warn\" not found!\n73906 WARNING: Hidden import \"pkg_resources.markers\" not found!\n73909 INFO: Excluding import '__main__'\n73911 INFO:   Removing import of __main__ from module pkg_resources\n73912 INFO: Loading module hook 'hook-pygments.py' from 'd:\\\\app\\\\anaconda\\\\envs\\\\py37\\\\lib\\\\site-packages\\\\PyInstaller\\\\hooks'...\n75559 INFO: Loading module hook 'hook-PyQt5.py' from 'd:\\\\app\\\\anaconda\\\\envs\\\\py37\\\\lib\\\\site-packages\\\\PyInstaller\\\\hooks'...\n77414 WARNING: Hidden import \"PyQt5.sip\" not found!\n77414 INFO: Loading module hook 'hook-PyQt5.QtCore.py' from 'd:\\\\app\\\\anaconda\\\\envs\\\\py37\\\\lib\\\\site-packages\\\\PyInstaller\\\\hooks'...\n77480 INFO: Loading module hook 'hook-PyQt5.QtGui.py' from 'd:\\\\app\\\\anaconda\\\\envs\\\\py37\\\\lib\\\\site-packages\\\\PyInstaller\\\\hooks'...\n77604 INFO: Loading module hook 'hook-PyQt5.QtSvg.py' from 'd:\\\\app\\\\anaconda\\\\envs\\\\py37\\\\lib\\\\site-packages\\\\PyInstaller\\\\hooks'...\n77992 INFO: Loading module hook 'hook-PyQt5.QtWidgets.py' from 'd:\\\\app\\\\anaconda\\\\envs\\\\py37\\\\lib\\\\site-packages\\\\PyInstaller\\\\hooks'...\n78143 INFO: Loading module hook 'hook-pytz.py' from 'd:\\\\app\\\\anaconda\\\\envs\\\\py37\\\\lib\\\\site-packages\\\\PyInstaller\\\\hooks'...\n78392 INFO: Loading module hook 'hook-scipy.linalg.py' from 'd:\\\\app\\\\anaconda\\\\envs\\\\py37\\\\lib\\\\site-packages\\\\PyInstaller\\\\hooks'...\n78393 INFO: Loading module hook 'hook-scipy.py' from 'd:\\\\app\\\\anaconda\\\\envs\\\\py37\\\\lib\\\\site-packages\\\\PyInstaller\\\\hooks'...\n78396 INFO: Loading module hook 'hook-scipy.sparse.csgraph.py' from 'd:\\\\app\\\\anaconda\\\\envs\\\\py37\\\\lib\\\\site-packages\\\\PyInstaller\\\\hooks'...\n78399 INFO: Loading module hook 'hook-scipy.special._ellip_harm_2.py' from 'd:\\\\app\\\\anaconda\\\\envs\\\\py37\\\\lib\\\\site-packages\\\\PyInstaller\\\\hooks'...\n78399 INFO: Loading module hook 'hook-scipy.special._ufuncs.py' from 'd:\\\\app\\\\anaconda\\\\envs\\\\py37\\\\lib\\\\site-packages\\\\PyInstaller\\\\hooks'...\n78400 INFO: Loading module hook 'hook-scipy.stats._stats.py' from 'd:\\\\app\\\\anaconda\\\\envs\\\\py37\\\\lib\\\\site-packages\\\\PyInstaller\\\\hooks'...\n78401 INFO: Loading module hook 'hook-setuptools.py' from 'd:\\\\app\\\\anaconda\\\\envs\\\\py37\\\\lib\\\\site-packages\\\\PyInstaller\\\\hooks'...\n79212 INFO: Loading module hook 'hook-sqlite3.py' from 'd:\\\\app\\\\anaconda\\\\envs\\\\py37\\\\lib\\\\site-packages\\\\PyInstaller\\\\hooks'...\n79311 INFO: Loading module hook 'hook-sysconfig.py' from 'd:\\\\app\\\\anaconda\\\\envs\\\\py37\\\\lib\\\\site-packages\\\\PyInstaller\\\\hooks'...\n79311 INFO: Loading module hook 'hook-wcwidth.py' from 'd:\\\\app\\\\anaconda\\\\envs\\\\py37\\\\lib\\\\site-packages\\\\PyInstaller\\\\hooks'...\n79316 INFO: Loading module hook 'hook-xml.dom.domreg.py' from 'd:\\\\app\\\\anaconda\\\\envs\\\\py37\\\\lib\\\\site-packages\\\\PyInstaller\\\\hooks'...\n79317 INFO: Loading module hook 'hook-xml.etree.cElementTree.py' from 'd:\\\\app\\\\anaconda\\\\envs\\\\py37\\\\lib\\\\site-packages\\\\PyInstaller\\\\hooks'...\n79317 INFO: Loading module hook 'hook-xml.py' from 'd:\\\\app\\\\anaconda\\\\envs\\\\py37\\\\lib\\\\site-packages\\\\PyInstaller\\\\hooks'...\n79318 INFO: Loading module hook 'hook-_tkinter.py' from 'd:\\\\app\\\\anaconda\\\\envs\\\\py37\\\\lib\\\\site-packages\\\\PyInstaller\\\\hooks'...\n79498 INFO: checking Tree\n79518 INFO: checking Tree\n79524 INFO: Loading module hook 'hook-pythoncom.py' from 'd:\\\\app\\\\anaconda\\\\envs\\\\py37\\\\lib\\\\site-packages\\\\_pyinstaller_hooks_contrib\\\\hooks\\\\stdhooks'...\n80012 INFO: Loading module hook 'hook-pywintypes.py' from 'd:\\\\app\\\\anaconda\\\\envs\\\\py37\\\\lib\\\\site-packages\\\\_pyinstaller_hooks_contrib\\\\hooks\\\\stdhooks'...\n80500 INFO: Loading module hook 'hook-win32com.py' from 'd:\\\\app\\\\anaconda\\\\envs\\\\py37\\\\lib\\\\site-packages\\\\_pyinstaller_hooks_contrib\\\\hooks\\\\stdhooks'...\n81118 INFO: Loading module hook 'hook-packaging.py' from 'd:\\\\app\\\\anaconda\\\\envs\\\\py37\\\\lib\\\\site-packages\\\\PyInstaller\\\\hooks'...\n81260 INFO: Looking for ctypes DLLs\n81450 INFO: Analyzing run-time hooks ...\n81468 INFO: Including run-time hook 'd:\\\\app\\\\anaconda\\\\envs\\\\py37\\\\lib\\\\site-packages\\\\PyInstaller\\\\hooks\\\\rthooks\\\\pyi_rth_multiprocessing.py'\n81470 INFO: Including run-time hook 'd:\\\\app\\\\anaconda\\\\envs\\\\py37\\\\lib\\\\site-packages\\\\PyInstaller\\\\hooks\\\\rthooks\\\\pyi_rth_pkgres.py'\n81472 INFO: Including run-time hook 'd:\\\\app\\\\anaconda\\\\envs\\\\py37\\\\lib\\\\site-packages\\\\PyInstaller\\\\hooks\\\\rthooks\\\\pyi_rth_win32comgenpy.py'\n81473 INFO: Including run-time hook 'd:\\\\app\\\\anaconda\\\\envs\\\\py37\\\\lib\\\\site-packages\\\\PyInstaller\\\\hooks\\\\rthooks\\\\pyi_rth_pyqt5.py'\n81474 INFO: Including run-time hook 'd:\\\\app\\\\anaconda\\\\envs\\\\py37\\\\lib\\\\site-packages\\\\_pyinstaller_hooks_contrib\\\\hooks\\\\rthooks\\\\pyi_rth_traitlets.py'\n81475 INFO: Including run-time hook 'd:\\\\app\\\\anaconda\\\\envs\\\\py37\\\\lib\\\\site-packages\\\\PyInstaller\\\\hooks\\\\rthooks\\\\pyi_rth_mplconfig.py'\n81476 INFO: Including run-time hook 'd:\\\\app\\\\anaconda\\\\envs\\\\py37\\\\lib\\\\site-packages\\\\PyInstaller\\\\hooks\\\\rthooks\\\\pyi_rth_mpldata.py'\n81476 INFO: Including run-time hook 'd:\\\\app\\\\anaconda\\\\envs\\\\py37\\\\lib\\\\site-packages\\\\_pyinstaller_hooks_contrib\\\\hooks\\\\rthooks\\\\pyi_rth_certifi.py'\n81477 INFO: Including run-time hook 'd:\\\\app\\\\anaconda\\\\envs\\\\py37\\\\lib\\\\site-packages\\\\PyInstaller\\\\hooks\\\\rthooks\\\\pyi_rth__tkinter.py'\n81518 INFO: Looking for dynamic libraries\n82031 WARNING: lib not found: pgf90.dll dependency of d:\\app\\anaconda\\envs\\py37\\Library\\bin\\mkl_pgi_thread.dll\n82036 WARNING: lib not found: pgf90rtl.dll dependency of d:\\app\\anaconda\\envs\\py37\\Library\\bin\\mkl_pgi_thread.dll\n82038 WARNING: lib not found: pgc14.dll dependency of d:\\app\\anaconda\\envs\\py37\\Library\\bin\\mkl_pgi_thread.dll\n82074 WARNING: lib not found: mpich2mpi.dll dependency of d:\\app\\anaconda\\envs\\py37\\Library\\bin\\mkl_blacs_mpich2_lp64.dll\n82129 WARNING: lib not found: impi.dll dependency of d:\\app\\anaconda\\envs\\py37\\Library\\bin\\mkl_blacs_intelmpi_ilp64.dll\n82276 WARNING: lib not found: mpich2mpi.dll dependency of d:\\app\\anaconda\\envs\\py37\\Library\\bin\\mkl_blacs_mpich2_ilp64.dll\n82301 WARNING: lib not found: impi.dll dependency of d:\\app\\anaconda\\envs\\py37\\Library\\bin\\mkl_blacs_intelmpi_lp64.dll\n82335 WARNING: lib not found: msmpi.dll dependency of d:\\app\\anaconda\\envs\\py37\\Library\\bin\\mkl_blacs_msmpi_ilp64.dll\n82487 WARNING: lib not found: msmpi.dll dependency of d:\\app\\anaconda\\envs\\py37\\Library\\bin\\mkl_blacs_msmpi_lp64.dll\n84452 INFO: Looking for eggs\n84452 INFO: Using Python library d:\\app\\anaconda\\envs\\py37\\python37.dll\n84452 INFO: Found binding redirects: \n[]\n84475 INFO: Warnings written to d:\\work\\专利查询和搜集\\build\\重写可视化\\warn-重写可视化.txt\n84875 INFO: Graph cross-reference written to d:\\work\\专利查询和搜集\\build\\重写可视化\\xref-重写可视化.html\n85104 INFO: checking PYZ\n85127 INFO: Building because toc changed\n85128 INFO: Building PYZ (ZlibArchive) d:\\work\\专利查询和搜集\\build\\重写可视化\\PYZ-00.pyz\n89637 INFO: Building PYZ (ZlibArchive) d:\\work\\专利查询和搜集\\build\\重写可视化\\PYZ-00.pyz completed successfully.\n89713 INFO: checking PKG\n89770 INFO: Building because toc changed\n89770 INFO: Building PKG (CArchive) PKG-00.pkg\n177586 INFO: Building PKG (CArchive) PKG-00.pkg completed successfully.\n177763 INFO: Bootloader d:\\app\\anaconda\\envs\\py37\\lib\\site-packages\\PyInstaller\\bootloader\\Windows-64bit\\run.exe\n177763 INFO: checking EXE\n177829 INFO: Building because toc changed\n177829 INFO: Building EXE from EXE-00.toc\n177857 INFO: Appending archive to EXE d:\\work\\专利查询和搜集\\dist\\重写可视化.exe\n178192 INFO: Building EXE from EXE-00.toc completed successfully.\n"
     ]
    }
   ],
   "source": [
    "!pyinstaller -F 重写可视化.py"
   ]
  },
  {
   "cell_type": "code",
   "execution_count": 2,
   "metadata": {},
   "outputs": [
    {
     "output_type": "stream",
     "name": "stderr",
     "text": [
      "128 INFO: PyInstaller: 4.0\n132 INFO: Python: 3.7.9 (conda)\n132 INFO: Platform: Windows-10-10.0.18362-SP0\n132 INFO: wrote d:\\work\\专利查询和搜集\\重写可视化.spec\n136 INFO: UPX is not available.\n136 INFO: Extending PYTHONPATH with paths\n['d:\\\\work\\\\专利查询和搜集', 'd:\\\\work\\\\专利查询和搜集']\n180 INFO: checking Analysis\n1436 INFO: checking PYZ\n1740 INFO: checking PKG\n2444 INFO: Building because d:\\work\\专利查询和搜集\\build\\重写可视化\\重写可视化.exe.manifest changed\n2444 INFO: Building PKG (CArchive) PKG-00.pkg\n99860 INFO: Building PKG (CArchive) PKG-00.pkg completed successfully.\n100032 INFO: Bootloader d:\\app\\anaconda\\envs\\py37\\lib\\site-packages\\PyInstaller\\bootloader\\Windows-64bit\\run.exe\n100032 INFO: checking EXE\n100096 INFO: Rebuilding EXE-00.toc because pkg is more recent\n100096 INFO: Building EXE from EXE-00.toc\n100120 INFO: Appending archive to EXE d:\\work\\专利查询和搜集\\dist\\重写可视化.exe\n100408 INFO: Building EXE from EXE-00.toc completed successfully.\n"
     ]
    }
   ],
   "source": [
    "!pyinstaller 重写可视化.py --upx-dir=D:\\app\\upx\\ -y --onefile\n",
    "\n"
   ]
  },
  {
   "cell_type": "code",
   "execution_count": 2,
   "metadata": {},
   "outputs": [],
   "source": [
    "AAA = [\"aaa\",\"bbb\",\"ccc\"]\n",
    "BBB = [\"aaa\"]"
   ]
  },
  {
   "cell_type": "code",
   "execution_count": 3,
   "metadata": {},
   "outputs": [
    {
     "output_type": "execute_result",
     "data": {
      "text/plain": [
       "['aaa', 'bbb', 'ccc']"
      ]
     },
     "metadata": {},
     "execution_count": 3
    }
   ],
   "source": [
    "AAA"
   ]
  },
  {
   "cell_type": "code",
   "execution_count": 4,
   "metadata": {},
   "outputs": [
    {
     "output_type": "execute_result",
     "data": {
      "text/plain": [
       "['aaa']"
      ]
     },
     "metadata": {},
     "execution_count": 4
    }
   ],
   "source": [
    "BBB"
   ]
  },
  {
   "cell_type": "code",
   "execution_count": 7,
   "metadata": {},
   "outputs": [],
   "source": [
    "A = [A for A in AAA if A not in BBB]"
   ]
  },
  {
   "cell_type": "code",
   "execution_count": 8,
   "metadata": {},
   "outputs": [
    {
     "output_type": "execute_result",
     "data": {
      "text/plain": [
       "['bbb', 'ccc']"
      ]
     },
     "metadata": {},
     "execution_count": 8
    }
   ],
   "source": [
    "A"
   ]
  },
  {
   "cell_type": "code",
   "execution_count": null,
   "metadata": {},
   "outputs": [],
   "source": []
  }
 ],
 "metadata": {
  "kernelspec": {
   "name": "Python 3.7.9 64-bit ('py37': conda)",
   "display_name": "Python 3.7.9 64-bit ('py37': conda)",
   "metadata": {
    "interpreter": {
     "hash": "3f67747efba5d5ed495feb4e3e03b46c5a49a9c26592bc26ef0a4c665f0909f8"
    }
   }
  },
  "language_info": {
   "codemirror_mode": {
    "name": "ipython",
    "version": 3
   },
   "file_extension": ".py",
   "mimetype": "text/x-python",
   "name": "python",
   "nbconvert_exporter": "python",
   "pygments_lexer": "ipython3",
   "version": "3.7.9-final"
  }
 },
 "nbformat": 4,
 "nbformat_minor": 4
}