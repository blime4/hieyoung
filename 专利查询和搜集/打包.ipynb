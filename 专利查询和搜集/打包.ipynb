{
 "cells": [
  {
   "cell_type": "code",
   "execution_count": 4,
   "metadata": {},
   "outputs": [
    {
     "output_type": "stream",
     "name": "stderr",
     "text": [
      "71 INFO: PyInstaller: 4.0\n",
      "71 INFO: Python: 3.7.9 (conda)\n",
      "71 INFO: Platform: Windows-10-10.0.18362-SP0\n",
      "72 INFO: wrote d:\\work\\专利查询和搜集\\重写可视化.spec\n",
      "75 INFO: UPX is not available.\n",
      "77 INFO: Extending PYTHONPATH with paths\n",
      "['d:\\\\work\\\\专利查询和搜集', 'd:\\\\work\\\\专利查询和搜集']\n",
      "108 INFO: checking Analysis\n",
      "197 INFO: Building because d:\\work\\专利查询和搜集\\重写可视化.py changed\n",
      "198 INFO: Initializing module dependency graph...\n",
      "203 INFO: Caching module graph hooks...\n",
      "214 INFO: Analyzing base_library.zip ...\n",
      "2263 INFO: Processing pre-find module path hook distutils from 'd:\\\\app\\\\anaconda\\\\envs\\\\py37\\\\lib\\\\site-packages\\\\PyInstaller\\\\hooks\\\\pre_find_module_path\\\\hook-distutils.py'.\n",
      "2264 INFO: distutils: retargeting to non-venv dir 'd:\\\\app\\\\anaconda\\\\envs\\\\py37\\\\lib'\n",
      "3727 INFO: Caching module dependency graph...\n",
      "3837 INFO: running Analysis Analysis-00.toc\n",
      "3854 INFO: Adding Microsoft.Windows.Common-Controls to dependent assemblies of final executable\n",
      "  required by d:\\app\\anaconda\\envs\\py37\\python.exe\n",
      "4175 INFO: Analyzing d:\\work\\专利查询和搜集\\重写可视化.py\n",
      "4837 INFO: Processing pre-safe import module hook urllib3.packages.six.moves from 'd:\\\\app\\\\anaconda\\\\envs\\\\py37\\\\lib\\\\site-packages\\\\PyInstaller\\\\hooks\\\\pre_safe_import_module\\\\hook-urllib3.packages.six.moves.py'.\n",
      "6510 INFO: Processing pre-safe import module hook six.moves from 'd:\\\\app\\\\anaconda\\\\envs\\\\py37\\\\lib\\\\site-packages\\\\PyInstaller\\\\hooks\\\\pre_safe_import_module\\\\hook-six.moves.py'.\n",
      "11454 INFO: Processing pre-find module path hook site from 'd:\\\\app\\\\anaconda\\\\envs\\\\py37\\\\lib\\\\site-packages\\\\PyInstaller\\\\hooks\\\\pre_find_module_path\\\\hook-site.py'.\n",
      "11454 INFO: site: retargeting to fake-dir 'd:\\\\app\\\\anaconda\\\\envs\\\\py37\\\\lib\\\\site-packages\\\\PyInstaller\\\\fake-modules'\n",
      "14374 INFO: Processing pre-safe import module hook setuptools.extern.six.moves from 'd:\\\\app\\\\anaconda\\\\envs\\\\py37\\\\lib\\\\site-packages\\\\PyInstaller\\\\hooks\\\\pre_safe_import_module\\\\hook-setuptools.extern.six.moves.py'.\n",
      "53647 INFO: Processing module hooks...\n",
      "53647 INFO: Loading module hook 'hook-botocore.py' from 'd:\\\\app\\\\anaconda\\\\envs\\\\py37\\\\lib\\\\site-packages\\\\_pyinstaller_hooks_contrib\\\\hooks\\\\stdhooks'...\n",
      "54714 INFO: Loading module hook 'hook-certifi.py' from 'd:\\\\app\\\\anaconda\\\\envs\\\\py37\\\\lib\\\\site-packages\\\\_pyinstaller_hooks_contrib\\\\hooks\\\\stdhooks'...\n",
      "54721 INFO: Loading module hook 'hook-cryptography.py' from 'd:\\\\app\\\\anaconda\\\\envs\\\\py37\\\\lib\\\\site-packages\\\\_pyinstaller_hooks_contrib\\\\hooks\\\\stdhooks'...\n",
      "55022 INFO: Loading module hook 'hook-IPython.py' from 'd:\\\\app\\\\anaconda\\\\envs\\\\py37\\\\lib\\\\site-packages\\\\_pyinstaller_hooks_contrib\\\\hooks\\\\stdhooks'...\n",
      "55686 INFO: Excluding import 'PyQt5'\n",
      "55691 INFO:   Removing import of PyQt5 from module IPython.external.qt_loaders\n",
      "55691 INFO:   Removing import of PyQt5.QtCore from module IPython.external.qt_loaders\n",
      "55691 INFO:   Removing import of PyQt5.QtWidgets from module IPython.external.qt_loaders\n",
      "55691 INFO:   Removing import of PyQt5.QtSvg from module IPython.external.qt_loaders\n",
      "55691 INFO:   Removing import of PyQt5.QtGui from module IPython.external.qt_loaders\n",
      "55691 INFO: Excluding import 'matplotlib'\n",
      "55696 INFO:   Removing import of matplotlib._pylab_helpers from module IPython.core.pylabtools\n",
      "55696 INFO:   Removing import of matplotlib.pyplot from module IPython.core.pylabtools\n",
      "55696 INFO:   Removing import of matplotlib from module IPython.core.pylabtools\n",
      "55696 INFO:   Removing import of matplotlib.backend_bases from module IPython.core.pylabtools\n",
      "55696 INFO:   Removing import of matplotlib.figure from module IPython.core.pylabtools\n",
      "55697 INFO: Excluding import 'tkinter'\n",
      "55701 INFO:   Removing import of tkinter from module IPython.lib.clipboard\n",
      "55702 INFO: Excluding import 'PySide'\n",
      "55707 INFO:   Removing import of PySide from module IPython.external.qt_loaders\n",
      "55707 INFO: Excluding import 'PyQt4'\n",
      "55712 INFO:   Removing import of PyQt4 from module IPython.external.qt_loaders\n",
      "55712 INFO: Excluding import 'gtk'\n",
      "55718 INFO: Loading module hook 'hook-jedi.py' from 'd:\\\\app\\\\anaconda\\\\envs\\\\py37\\\\lib\\\\site-packages\\\\_pyinstaller_hooks_contrib\\\\hooks\\\\stdhooks'...\n",
      "58147 INFO: Loading module hook 'hook-jinja2.py' from 'd:\\\\app\\\\anaconda\\\\envs\\\\py37\\\\lib\\\\site-packages\\\\_pyinstaller_hooks_contrib\\\\hooks\\\\stdhooks'...\n",
      "58164 INFO: Loading module hook 'hook-jsonschema.py' from 'd:\\\\app\\\\anaconda\\\\envs\\\\py37\\\\lib\\\\site-packages\\\\_pyinstaller_hooks_contrib\\\\hooks\\\\stdhooks'...\n",
      "58183 INFO: Loading module hook 'hook-lxml.etree.py' from 'd:\\\\app\\\\anaconda\\\\envs\\\\py37\\\\lib\\\\site-packages\\\\_pyinstaller_hooks_contrib\\\\hooks\\\\stdhooks'...\n",
      "58183 INFO: Loading module hook 'hook-nbconvert.py' from 'd:\\\\app\\\\anaconda\\\\envs\\\\py37\\\\lib\\\\site-packages\\\\_pyinstaller_hooks_contrib\\\\hooks\\\\stdhooks'...\n",
      "58360 INFO: Loading module hook 'hook-nbformat.py' from 'd:\\\\app\\\\anaconda\\\\envs\\\\py37\\\\lib\\\\site-packages\\\\_pyinstaller_hooks_contrib\\\\hooks\\\\stdhooks'...\n",
      "58437 INFO: Loading module hook 'hook-notebook.py' from 'd:\\\\app\\\\anaconda\\\\envs\\\\py37\\\\lib\\\\site-packages\\\\_pyinstaller_hooks_contrib\\\\hooks\\\\stdhooks'...\n",
      "62320 INFO: Loading module hook 'hook-openpyxl.py' from 'd:\\\\app\\\\anaconda\\\\envs\\\\py37\\\\lib\\\\site-packages\\\\_pyinstaller_hooks_contrib\\\\hooks\\\\stdhooks'...\n",
      "62493 INFO: Loading module hook 'hook-pycparser.py' from 'd:\\\\app\\\\anaconda\\\\envs\\\\py37\\\\lib\\\\site-packages\\\\_pyinstaller_hooks_contrib\\\\hooks\\\\stdhooks'...\n",
      "62493 INFO: Loading module hook 'hook-zmq.py' from 'd:\\\\app\\\\anaconda\\\\envs\\\\py37\\\\lib\\\\site-packages\\\\_pyinstaller_hooks_contrib\\\\hooks\\\\stdhooks'...\n",
      "64777 WARNING: Hidden import \"file:\" not found!\n",
      "64778 WARNING: Hidden import \"directory\" not found!\n",
      "64779 WARNING: Hidden import \"d:\\app\\anaconda\\envs\\py37\\lib\\site-packages\\zmq\\backend\\cffi\\__pycache__\\_cffi_ext.c(268):\" not found!\n",
      "64864 WARNING: Hidden import \"error\" not found!\n",
      "64948 WARNING: Hidden import \"file\" not found!\n",
      "64949 WARNING: Hidden import \"fatal\" not found!\n",
      "65046 WARNING: Hidden import \"or\" not found!\n",
      "65047 WARNING: Hidden import \"No\" not found!\n",
      "65049 WARNING: Hidden import \"_cffi_ext.c\" not found!\n",
      "65051 WARNING: Hidden import \"such\" not found!\n",
      "65053 WARNING: Hidden import \"C1083:\" not found!\n",
      "65054 WARNING: Hidden import \"Cannot\" not found!\n",
      "65055 WARNING: Hidden import \"open\" not found!\n",
      "65057 WARNING: Hidden import \"'zmq.h':\" not found!\n",
      "65057 INFO: Loading module hook 'hook-distutils.py' from 'd:\\\\app\\\\anaconda\\\\envs\\\\py37\\\\lib\\\\site-packages\\\\PyInstaller\\\\hooks'...\n",
      "65058 INFO: Loading module hook 'hook-encodings.py' from 'd:\\\\app\\\\anaconda\\\\envs\\\\py37\\\\lib\\\\site-packages\\\\PyInstaller\\\\hooks'...\n",
      "65160 INFO: Loading module hook 'hook-lib2to3.py' from 'd:\\\\app\\\\anaconda\\\\envs\\\\py37\\\\lib\\\\site-packages\\\\PyInstaller\\\\hooks'...\n",
      "65210 INFO: Loading module hook 'hook-matplotlib.backends.py' from 'd:\\\\app\\\\anaconda\\\\envs\\\\py37\\\\lib\\\\site-packages\\\\PyInstaller\\\\hooks'...\n",
      "65896 INFO:   Matplotlib backend \"GTK3Agg\": ignored\n",
      "    backend Gtk3Agg requires cairo\n",
      "66235 INFO:   Matplotlib backend \"GTK3Cairo\": ignored\n",
      "    cairo backend requires that pycairo>=1.11.0 or cairocffiis installed\n",
      "66589 INFO:   Matplotlib backend \"MacOSX\": ignored\n",
      "    cannot import name '_macosx' from 'matplotlib.backends' (d:\\app\\anaconda\\envs\\py37\\lib\\site-packages\\matplotlib\\backends\\__init__.py)\n",
      "67648 INFO:   Matplotlib backend \"nbAgg\": added\n",
      "68153 INFO:   Matplotlib backend \"Qt4Agg\": added\n",
      "68511 INFO:   Matplotlib backend \"Qt4Cairo\": ignored\n",
      "    cairo backend requires that pycairo>=1.11.0 or cairocffiis installed\n",
      "69008 INFO:   Matplotlib backend \"Qt5Agg\": added\n",
      "69354 INFO:   Matplotlib backend \"Qt5Cairo\": ignored\n",
      "    cairo backend requires that pycairo>=1.11.0 or cairocffiis installed\n",
      "69928 INFO:   Matplotlib backend \"TkAgg\": added\n",
      "70502 INFO:   Matplotlib backend \"TkCairo\": ignored\n",
      "    cairo backend requires that pycairo>=1.11.0 or cairocffiis installed\n",
      "71060 INFO:   Matplotlib backend \"WebAgg\": added\n",
      "71606 INFO:   Matplotlib backend \"WX\": ignored\n",
      "    No module named 'wx'\n",
      "71940 INFO:   Matplotlib backend \"WXAgg\": ignored\n",
      "    No module named 'wx'\n",
      "72282 INFO:   Matplotlib backend \"WXCairo\": ignored\n",
      "    No module named 'wx'\n",
      "72703 INFO:   Matplotlib backend \"agg\": added\n",
      "73040 INFO:   Matplotlib backend \"cairo\": ignored\n",
      "    cairo backend requires that pycairo>=1.11.0 or cairocffiis installed\n",
      "73587 INFO:   Matplotlib backend \"pdf\": added\n",
      "74129 INFO:   Matplotlib backend \"pgf\": added\n",
      "74554 INFO:   Matplotlib backend \"ps\": added\n",
      "74981 INFO:   Matplotlib backend \"svg\": added\n",
      "75515 INFO:   Matplotlib backend \"template\": added\n",
      "75941 INFO: Loading module hook 'hook-matplotlib.py' from 'd:\\\\app\\\\anaconda\\\\envs\\\\py37\\\\lib\\\\site-packages\\\\PyInstaller\\\\hooks'...\n",
      "76296 INFO: Loading module hook 'hook-numpy.core.py' from 'd:\\\\app\\\\anaconda\\\\envs\\\\py37\\\\lib\\\\site-packages\\\\PyInstaller\\\\hooks'...\n",
      "76461 INFO: MKL libraries found when importing numpy. Adding MKL to binaries\n",
      "76467 INFO: Loading module hook 'hook-numpy.py' from 'd:\\\\app\\\\anaconda\\\\envs\\\\py37\\\\lib\\\\site-packages\\\\PyInstaller\\\\hooks'...\n",
      "76468 INFO: Loading module hook 'hook-pandas.py' from 'd:\\\\app\\\\anaconda\\\\envs\\\\py37\\\\lib\\\\site-packages\\\\PyInstaller\\\\hooks'...\n",
      "77363 INFO: Loading module hook 'hook-PIL.Image.py' from 'd:\\\\app\\\\anaconda\\\\envs\\\\py37\\\\lib\\\\site-packages\\\\PyInstaller\\\\hooks'...\n",
      "77845 INFO: Loading module hook 'hook-PIL.py' from 'd:\\\\app\\\\anaconda\\\\envs\\\\py37\\\\lib\\\\site-packages\\\\PyInstaller\\\\hooks'...\n",
      "77849 INFO: Import to be excluded not found: 'FixTk'\n",
      "77849 INFO: Excluding import 'PyQt5'\n",
      "77853 INFO:   Removing import of PyQt5.QtCore from module PIL.ImageQt\n",
      "77853 INFO:   Removing import of PyQt5.QtGui from module PIL.ImageQt\n",
      "77853 INFO: Excluding import 'tkinter'\n",
      "77857 INFO:   Removing import of tkinter from module PIL.ImageTk\n",
      "77857 INFO: Excluding import 'PySide'\n",
      "77862 INFO: Excluding import 'PyQt4'\n",
      "77867 INFO: Loading module hook 'hook-PIL.SpiderImagePlugin.py' from 'd:\\\\app\\\\anaconda\\\\envs\\\\py37\\\\lib\\\\site-packages\\\\PyInstaller\\\\hooks'...\n",
      "77871 INFO: Import to be excluded not found: 'FixTk'\n",
      "77871 INFO: Excluding import 'tkinter'\n",
      "77874 INFO: Loading module hook 'hook-pkg_resources.py' from 'd:\\\\app\\\\anaconda\\\\envs\\\\py37\\\\lib\\\\site-packages\\\\PyInstaller\\\\hooks'...\n",
      "78496 INFO: Processing pre-safe import module hook win32com from 'd:\\\\app\\\\anaconda\\\\envs\\\\py37\\\\lib\\\\site-packages\\\\_pyinstaller_hooks_contrib\\\\hooks\\\\pre_safe_import_module\\\\hook-win32com.py'.\n",
      "79014 WARNING: Hidden import \"pkg_resources.py2_warn\" not found!\n",
      "79143 WARNING: Hidden import \"pkg_resources.markers\" not found!\n",
      "79147 INFO: Excluding import '__main__'\n",
      "79150 INFO:   Removing import of __main__ from module pkg_resources\n",
      "79151 INFO: Loading module hook 'hook-pygments.py' from 'd:\\\\app\\\\anaconda\\\\envs\\\\py37\\\\lib\\\\site-packages\\\\PyInstaller\\\\hooks'...\n",
      "81064 INFO: Loading module hook 'hook-PyQt5.py' from 'd:\\\\app\\\\anaconda\\\\envs\\\\py37\\\\lib\\\\site-packages\\\\PyInstaller\\\\hooks'...\n",
      "83108 WARNING: Hidden import \"PyQt5.sip\" not found!\n",
      "83108 INFO: Loading module hook 'hook-PyQt5.QtCore.py' from 'd:\\\\app\\\\anaconda\\\\envs\\\\py37\\\\lib\\\\site-packages\\\\PyInstaller\\\\hooks'...\n",
      "83178 INFO: Loading module hook 'hook-PyQt5.QtGui.py' from 'd:\\\\app\\\\anaconda\\\\envs\\\\py37\\\\lib\\\\site-packages\\\\PyInstaller\\\\hooks'...\n",
      "83341 INFO: Loading module hook 'hook-PyQt5.QtSvg.py' from 'd:\\\\app\\\\anaconda\\\\envs\\\\py37\\\\lib\\\\site-packages\\\\PyInstaller\\\\hooks'...\n",
      "83646 INFO: Loading module hook 'hook-PyQt5.QtWidgets.py' from 'd:\\\\app\\\\anaconda\\\\envs\\\\py37\\\\lib\\\\site-packages\\\\PyInstaller\\\\hooks'...\n",
      "83940 INFO: Loading module hook 'hook-pytz.py' from 'd:\\\\app\\\\anaconda\\\\envs\\\\py37\\\\lib\\\\site-packages\\\\PyInstaller\\\\hooks'...\n",
      "84226 INFO: Loading module hook 'hook-scipy.linalg.py' from 'd:\\\\app\\\\anaconda\\\\envs\\\\py37\\\\lib\\\\site-packages\\\\PyInstaller\\\\hooks'...\n",
      "84227 INFO: Loading module hook 'hook-scipy.py' from 'd:\\\\app\\\\anaconda\\\\envs\\\\py37\\\\lib\\\\site-packages\\\\PyInstaller\\\\hooks'...\n",
      "84230 INFO: Loading module hook 'hook-scipy.sparse.csgraph.py' from 'd:\\\\app\\\\anaconda\\\\envs\\\\py37\\\\lib\\\\site-packages\\\\PyInstaller\\\\hooks'...\n",
      "84233 INFO: Loading module hook 'hook-scipy.special._ellip_harm_2.py' from 'd:\\\\app\\\\anaconda\\\\envs\\\\py37\\\\lib\\\\site-packages\\\\PyInstaller\\\\hooks'...\n",
      "84234 INFO: Loading module hook 'hook-scipy.special._ufuncs.py' from 'd:\\\\app\\\\anaconda\\\\envs\\\\py37\\\\lib\\\\site-packages\\\\PyInstaller\\\\hooks'...\n",
      "84235 INFO: Loading module hook 'hook-scipy.stats._stats.py' from 'd:\\\\app\\\\anaconda\\\\envs\\\\py37\\\\lib\\\\site-packages\\\\PyInstaller\\\\hooks'...\n",
      "84237 INFO: Loading module hook 'hook-setuptools.py' from 'd:\\\\app\\\\anaconda\\\\envs\\\\py37\\\\lib\\\\site-packages\\\\PyInstaller\\\\hooks'...\n",
      "85151 INFO: Loading module hook 'hook-sqlite3.py' from 'd:\\\\app\\\\anaconda\\\\envs\\\\py37\\\\lib\\\\site-packages\\\\PyInstaller\\\\hooks'...\n",
      "85257 INFO: Loading module hook 'hook-sysconfig.py' from 'd:\\\\app\\\\anaconda\\\\envs\\\\py37\\\\lib\\\\site-packages\\\\PyInstaller\\\\hooks'...\n",
      "85257 INFO: Loading module hook 'hook-wcwidth.py' from 'd:\\\\app\\\\anaconda\\\\envs\\\\py37\\\\lib\\\\site-packages\\\\PyInstaller\\\\hooks'...\n",
      "85262 INFO: Loading module hook 'hook-xml.dom.domreg.py' from 'd:\\\\app\\\\anaconda\\\\envs\\\\py37\\\\lib\\\\site-packages\\\\PyInstaller\\\\hooks'...\n",
      "85262 INFO: Loading module hook 'hook-xml.etree.cElementTree.py' from 'd:\\\\app\\\\anaconda\\\\envs\\\\py37\\\\lib\\\\site-packages\\\\PyInstaller\\\\hooks'...\n",
      "85263 INFO: Loading module hook 'hook-xml.py' from 'd:\\\\app\\\\anaconda\\\\envs\\\\py37\\\\lib\\\\site-packages\\\\PyInstaller\\\\hooks'...\n",
      "85263 INFO: Loading module hook 'hook-_tkinter.py' from 'd:\\\\app\\\\anaconda\\\\envs\\\\py37\\\\lib\\\\site-packages\\\\PyInstaller\\\\hooks'...\n",
      "85459 INFO: checking Tree\n",
      "85479 INFO: checking Tree\n",
      "85485 INFO: Loading module hook 'hook-pythoncom.py' from 'd:\\\\app\\\\anaconda\\\\envs\\\\py37\\\\lib\\\\site-packages\\\\_pyinstaller_hooks_contrib\\\\hooks\\\\stdhooks'...\n",
      "86021 INFO: Loading module hook 'hook-pywintypes.py' from 'd:\\\\app\\\\anaconda\\\\envs\\\\py37\\\\lib\\\\site-packages\\\\_pyinstaller_hooks_contrib\\\\hooks\\\\stdhooks'...\n",
      "86560 INFO: Loading module hook 'hook-win32com.py' from 'd:\\\\app\\\\anaconda\\\\envs\\\\py37\\\\lib\\\\site-packages\\\\_pyinstaller_hooks_contrib\\\\hooks\\\\stdhooks'...\n",
      "87230 INFO: Loading module hook 'hook-packaging.py' from 'd:\\\\app\\\\anaconda\\\\envs\\\\py37\\\\lib\\\\site-packages\\\\PyInstaller\\\\hooks'...\n",
      "87377 INFO: Looking for ctypes DLLs\n",
      "87572 INFO: Analyzing run-time hooks ...\n",
      "87591 INFO: Including run-time hook 'd:\\\\app\\\\anaconda\\\\envs\\\\py37\\\\lib\\\\site-packages\\\\PyInstaller\\\\hooks\\\\rthooks\\\\pyi_rth_multiprocessing.py'\n",
      "87593 INFO: Including run-time hook 'd:\\\\app\\\\anaconda\\\\envs\\\\py37\\\\lib\\\\site-packages\\\\PyInstaller\\\\hooks\\\\rthooks\\\\pyi_rth_pkgres.py'\n",
      "87595 INFO: Including run-time hook 'd:\\\\app\\\\anaconda\\\\envs\\\\py37\\\\lib\\\\site-packages\\\\PyInstaller\\\\hooks\\\\rthooks\\\\pyi_rth_win32comgenpy.py'\n",
      "87597 INFO: Including run-time hook 'd:\\\\app\\\\anaconda\\\\envs\\\\py37\\\\lib\\\\site-packages\\\\PyInstaller\\\\hooks\\\\rthooks\\\\pyi_rth_pyqt5.py'\n",
      "87598 INFO: Including run-time hook 'd:\\\\app\\\\anaconda\\\\envs\\\\py37\\\\lib\\\\site-packages\\\\_pyinstaller_hooks_contrib\\\\hooks\\\\rthooks\\\\pyi_rth_traitlets.py'\n",
      "87599 INFO: Including run-time hook 'd:\\\\app\\\\anaconda\\\\envs\\\\py37\\\\lib\\\\site-packages\\\\PyInstaller\\\\hooks\\\\rthooks\\\\pyi_rth_mplconfig.py'\n",
      "87600 INFO: Including run-time hook 'd:\\\\app\\\\anaconda\\\\envs\\\\py37\\\\lib\\\\site-packages\\\\PyInstaller\\\\hooks\\\\rthooks\\\\pyi_rth_mpldata.py'\n",
      "87600 INFO: Including run-time hook 'd:\\\\app\\\\anaconda\\\\envs\\\\py37\\\\lib\\\\site-packages\\\\_pyinstaller_hooks_contrib\\\\hooks\\\\rthooks\\\\pyi_rth_certifi.py'\n",
      "87601 INFO: Including run-time hook 'd:\\\\app\\\\anaconda\\\\envs\\\\py37\\\\lib\\\\site-packages\\\\PyInstaller\\\\hooks\\\\rthooks\\\\pyi_rth__tkinter.py'\n",
      "87646 INFO: Looking for dynamic libraries\n",
      "87670 WARNING: lib not found: impi.dll dependency of d:\\app\\anaconda\\envs\\py37\\Library\\bin\\mkl_blacs_intelmpi_lp64.dll\n",
      "87733 WARNING: lib not found: pgc14.dll dependency of d:\\app\\anaconda\\envs\\py37\\Library\\bin\\mkl_pgi_thread.dll\n",
      "87735 WARNING: lib not found: pgf90.dll dependency of d:\\app\\anaconda\\envs\\py37\\Library\\bin\\mkl_pgi_thread.dll\n",
      "87738 WARNING: lib not found: pgf90rtl.dll dependency of d:\\app\\anaconda\\envs\\py37\\Library\\bin\\mkl_pgi_thread.dll\n",
      "88066 WARNING: lib not found: msmpi.dll dependency of d:\\app\\anaconda\\envs\\py37\\Library\\bin\\mkl_blacs_msmpi_lp64.dll\n",
      "88209 WARNING: lib not found: mpich2mpi.dll dependency of d:\\app\\anaconda\\envs\\py37\\Library\\bin\\mkl_blacs_mpich2_ilp64.dll\n",
      "88553 WARNING: lib not found: impi.dll dependency of d:\\app\\anaconda\\envs\\py37\\Library\\bin\\mkl_blacs_intelmpi_ilp64.dll\n",
      "88645 WARNING: lib not found: msmpi.dll dependency of d:\\app\\anaconda\\envs\\py37\\Library\\bin\\mkl_blacs_msmpi_ilp64.dll\n",
      "88649 WARNING: lib not found: mpich2mpi.dll dependency of d:\\app\\anaconda\\envs\\py37\\Library\\bin\\mkl_blacs_mpich2_lp64.dll\n",
      "90740 INFO: Looking for eggs\n",
      "90740 INFO: Using Python library d:\\app\\anaconda\\envs\\py37\\python37.dll\n",
      "90740 INFO: Found binding redirects: \n",
      "[]\n",
      "90765 INFO: Warnings written to d:\\work\\专利查询和搜集\\build\\重写可视化\\warn-重写可视化.txt\n",
      "91184 INFO: Graph cross-reference written to d:\\work\\专利查询和搜集\\build\\重写可视化\\xref-重写可视化.html\n",
      "91432 INFO: checking PYZ\n",
      "91460 INFO: Building because toc changed\n",
      "91461 INFO: Building PYZ (ZlibArchive) d:\\work\\专利查询和搜集\\build\\重写可视化\\PYZ-00.pyz\n",
      "96344 INFO: Building PYZ (ZlibArchive) d:\\work\\专利查询和搜集\\build\\重写可视化\\PYZ-00.pyz completed successfully.\n",
      "96433 INFO: checking PKG\n",
      "96501 INFO: Building because toc changed\n",
      "96501 INFO: Building PKG (CArchive) PKG-00.pkg\n",
      "186902 INFO: Building PKG (CArchive) PKG-00.pkg completed successfully.\n",
      "187070 INFO: Bootloader d:\\app\\anaconda\\envs\\py37\\lib\\site-packages\\PyInstaller\\bootloader\\Windows-64bit\\run.exe\n",
      "187070 INFO: checking EXE\n",
      "187127 INFO: Building because toc changed\n",
      "187127 INFO: Building EXE from EXE-00.toc\n",
      "187147 INFO: Appending archive to EXE d:\\work\\专利查询和搜集\\dist\\重写可视化.exe\n",
      "187424 INFO: Building EXE from EXE-00.toc completed successfully.\n",
      "66 INFO: PyInstaller: 4.0\n",
      "66 INFO: Python: 3.7.9 (conda)\n",
      "67 INFO: Platform: Windows-10-10.0.18362-SP0\n",
      "67 INFO: wrote d:\\work\\专利查询和搜集\\重写可视化.spec\n",
      "71 INFO: UPX is not available.\n",
      "72 INFO: Extending PYTHONPATH with paths\n",
      "['d:\\\\work\\\\专利查询和搜集', 'd:\\\\work\\\\专利查询和搜集']\n",
      "100 INFO: checking Analysis\n",
      "898 INFO: checking PYZ\n",
      "1100 INFO: checking PKG\n",
      "1548 INFO: Building because d:\\work\\专利查询和搜集\\build\\重写可视化\\重写可视化.exe.manifest changed\n",
      "1549 INFO: Building PKG (CArchive) PKG-00.pkg\n",
      "91230 INFO: Building PKG (CArchive) PKG-00.pkg completed successfully.\n",
      "91395 INFO: Bootloader d:\\app\\anaconda\\envs\\py37\\lib\\site-packages\\PyInstaller\\bootloader\\Windows-64bit\\run.exe\n",
      "91395 INFO: checking EXE\n",
      "91462 INFO: Building because toc changed\n",
      "91462 INFO: Building EXE from EXE-00.toc\n",
      "91490 INFO: Appending archive to EXE d:\\work\\专利查询和搜集\\dist\\重写可视化.exe\n",
      "91791 INFO: Building EXE from EXE-00.toc completed successfully.\n"
     ]
    }
   ],
   "source": [
    "!pyinstaller -F 重写可视化.py"
   ]
  },
  {
   "cell_type": "code",
   "execution_count": null,
   "metadata": {},
   "outputs": [],
   "source": [
    "!pyinstaller 重写可视化.py --upx-dir=D:\\app\\upx\\ -y --onefile\n",
    "\n"
   ]
  },
  {
   "cell_type": "code",
   "execution_count": 2,
   "metadata": {},
   "outputs": [],
   "source": [
    "AAA = [\"aaa\",\"bbb\",\"ccc\"]\n",
    "BBB = [\"aaa\"]"
   ]
  },
  {
   "cell_type": "code",
   "execution_count": 3,
   "metadata": {},
   "outputs": [
    {
     "output_type": "execute_result",
     "data": {
      "text/plain": [
       "['aaa', 'bbb', 'ccc']"
      ]
     },
     "metadata": {},
     "execution_count": 3
    }
   ],
   "source": [
    "AAA"
   ]
  },
  {
   "cell_type": "code",
   "execution_count": 4,
   "metadata": {},
   "outputs": [
    {
     "output_type": "execute_result",
     "data": {
      "text/plain": [
       "['aaa']"
      ]
     },
     "metadata": {},
     "execution_count": 4
    }
   ],
   "source": [
    "BBB"
   ]
  },
  {
   "cell_type": "code",
   "execution_count": 7,
   "metadata": {},
   "outputs": [],
   "source": [
    "A = [A for A in AAA if A not in BBB]"
   ]
  },
  {
   "cell_type": "code",
   "execution_count": 8,
   "metadata": {},
   "outputs": [
    {
     "output_type": "execute_result",
     "data": {
      "text/plain": [
       "['bbb', 'ccc']"
      ]
     },
     "metadata": {},
     "execution_count": 8
    }
   ],
   "source": [
    "A"
   ]
  },
  {
   "cell_type": "code",
   "execution_count": null,
   "metadata": {},
   "outputs": [],
   "source": []
  }
 ],
 "metadata": {
  "kernelspec": {
   "name": "Python 3.7.9 64-bit ('py37': conda)",
   "display_name": "Python 3.7.9 64-bit ('py37': conda)",
   "metadata": {
    "interpreter": {
     "hash": "3f67747efba5d5ed495feb4e3e03b46c5a49a9c26592bc26ef0a4c665f0909f8"
    }
   }
  },
  "language_info": {
   "codemirror_mode": {
    "name": "ipython",
    "version": 3
   },
   "file_extension": ".py",
   "mimetype": "text/x-python",
   "name": "python",
   "nbconvert_exporter": "python",
   "pygments_lexer": "ipython3",
   "version": "3.7.9-final"
  }
 },
 "nbformat": 4,
 "nbformat_minor": 4
}