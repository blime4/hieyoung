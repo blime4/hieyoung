{
 "cells": [
  {
   "cell_type": "code",
   "execution_count": 1,
   "metadata": {},
   "outputs": [
    {
     "output_type": "stream",
     "name": "stderr",
     "text": [
      "94 INFO: PyInstaller: 4.0\n94 INFO: Python: 3.7.9 (conda)\n95 INFO: Platform: Windows-10-10.0.18362-SP0\n96 INFO: wrote d:\\work\\专利查询和搜集\\重写可视化.spec\n99 INFO: UPX is not available.\n102 INFO: Extending PYTHONPATH with paths\n['d:\\\\work\\\\专利查询和搜集', 'd:\\\\work\\\\专利查询和搜集']\n155 INFO: checking Analysis\n155 INFO: Building Analysis because Analysis-00.toc is non existent\n155 INFO: Initializing module dependency graph...\n163 INFO: Caching module graph hooks...\n182 INFO: Analyzing base_library.zip ...\n2248 INFO: Processing pre-find module path hook distutils from 'd:\\\\app\\\\anaconda\\\\envs\\\\py37\\\\lib\\\\site-packages\\\\PyInstaller\\\\hooks\\\\pre_find_module_path\\\\hook-distutils.py'.\n2251 INFO: distutils: retargeting to non-venv dir 'd:\\\\app\\\\anaconda\\\\envs\\\\py37\\\\lib'\n3725 INFO: Caching module dependency graph...\n3838 INFO: running Analysis Analysis-00.toc\n3856 INFO: Adding Microsoft.Windows.Common-Controls to dependent assemblies of final executable\n  required by d:\\app\\anaconda\\envs\\py37\\python.exe\n4172 INFO: Analyzing d:\\work\\专利查询和搜集\\重写可视化.py\n4881 INFO: Processing pre-safe import module hook urllib3.packages.six.moves from 'd:\\\\app\\\\anaconda\\\\envs\\\\py37\\\\lib\\\\site-packages\\\\PyInstaller\\\\hooks\\\\pre_safe_import_module\\\\hook-urllib3.packages.six.moves.py'.\n6532 INFO: Processing pre-safe import module hook six.moves from 'd:\\\\app\\\\anaconda\\\\envs\\\\py37\\\\lib\\\\site-packages\\\\PyInstaller\\\\hooks\\\\pre_safe_import_module\\\\hook-six.moves.py'.\n11433 INFO: Processing pre-find module path hook site from 'd:\\\\app\\\\anaconda\\\\envs\\\\py37\\\\lib\\\\site-packages\\\\PyInstaller\\\\hooks\\\\pre_find_module_path\\\\hook-site.py'.\n11434 INFO: site: retargeting to fake-dir 'd:\\\\app\\\\anaconda\\\\envs\\\\py37\\\\lib\\\\site-packages\\\\PyInstaller\\\\fake-modules'\n14355 INFO: Processing pre-safe import module hook setuptools.extern.six.moves from 'd:\\\\app\\\\anaconda\\\\envs\\\\py37\\\\lib\\\\site-packages\\\\PyInstaller\\\\hooks\\\\pre_safe_import_module\\\\hook-setuptools.extern.six.moves.py'.\n53570 INFO: Processing module hooks...\n53570 INFO: Loading module hook 'hook-botocore.py' from 'd:\\\\app\\\\anaconda\\\\envs\\\\py37\\\\lib\\\\site-packages\\\\_pyinstaller_hooks_contrib\\\\hooks\\\\stdhooks'...\n54593 INFO: Loading module hook 'hook-certifi.py' from 'd:\\\\app\\\\anaconda\\\\envs\\\\py37\\\\lib\\\\site-packages\\\\_pyinstaller_hooks_contrib\\\\hooks\\\\stdhooks'...\n54600 INFO: Loading module hook 'hook-cryptography.py' from 'd:\\\\app\\\\anaconda\\\\envs\\\\py37\\\\lib\\\\site-packages\\\\_pyinstaller_hooks_contrib\\\\hooks\\\\stdhooks'...\n55435 INFO: Loading module hook 'hook-IPython.py' from 'd:\\\\app\\\\anaconda\\\\envs\\\\py37\\\\lib\\\\site-packages\\\\_pyinstaller_hooks_contrib\\\\hooks\\\\stdhooks'...\n56053 INFO: Excluding import 'tkinter'\n56057 INFO:   Removing import of tkinter from module IPython.lib.clipboard\n56058 INFO: Excluding import 'PyQt5'\n56063 INFO:   Removing import of PyQt5.QtSvg from module IPython.external.qt_loaders\n56063 INFO:   Removing import of PyQt5.QtGui from module IPython.external.qt_loaders\n56063 INFO:   Removing import of PyQt5 from module IPython.external.qt_loaders\n56063 INFO:   Removing import of PyQt5.QtCore from module IPython.external.qt_loaders\n56063 INFO:   Removing import of PyQt5.QtWidgets from module IPython.external.qt_loaders\n56064 INFO: Excluding import 'PySide'\n56068 INFO:   Removing import of PySide from module IPython.external.qt_loaders\n56069 INFO: Excluding import 'matplotlib'\n56073 INFO:   Removing import of matplotlib from module IPython.core.pylabtools\n56074 INFO:   Removing import of matplotlib.backend_bases from module IPython.core.pylabtools\n56074 INFO:   Removing import of matplotlib.figure from module IPython.core.pylabtools\n56074 INFO:   Removing import of matplotlib.pyplot from module IPython.core.pylabtools\n56074 INFO:   Removing import of matplotlib._pylab_helpers from module IPython.core.pylabtools\n56075 INFO: Excluding import 'gtk'\n56080 INFO: Excluding import 'PyQt4'\n56085 INFO:   Removing import of PyQt4 from module IPython.external.qt_loaders\n56086 INFO: Loading module hook 'hook-jedi.py' from 'd:\\\\app\\\\anaconda\\\\envs\\\\py37\\\\lib\\\\site-packages\\\\_pyinstaller_hooks_contrib\\\\hooks\\\\stdhooks'...\n58457 INFO: Loading module hook 'hook-jinja2.py' from 'd:\\\\app\\\\anaconda\\\\envs\\\\py37\\\\lib\\\\site-packages\\\\_pyinstaller_hooks_contrib\\\\hooks\\\\stdhooks'...\n58472 INFO: Loading module hook 'hook-jsonschema.py' from 'd:\\\\app\\\\anaconda\\\\envs\\\\py37\\\\lib\\\\site-packages\\\\_pyinstaller_hooks_contrib\\\\hooks\\\\stdhooks'...\n58493 INFO: Loading module hook 'hook-lxml.etree.py' from 'd:\\\\app\\\\anaconda\\\\envs\\\\py37\\\\lib\\\\site-packages\\\\_pyinstaller_hooks_contrib\\\\hooks\\\\stdhooks'...\n58494 INFO: Loading module hook 'hook-nbconvert.py' from 'd:\\\\app\\\\anaconda\\\\envs\\\\py37\\\\lib\\\\site-packages\\\\_pyinstaller_hooks_contrib\\\\hooks\\\\stdhooks'...\n58685 INFO: Loading module hook 'hook-nbformat.py' from 'd:\\\\app\\\\anaconda\\\\envs\\\\py37\\\\lib\\\\site-packages\\\\_pyinstaller_hooks_contrib\\\\hooks\\\\stdhooks'...\n58773 INFO: Loading module hook 'hook-notebook.py' from 'd:\\\\app\\\\anaconda\\\\envs\\\\py37\\\\lib\\\\site-packages\\\\_pyinstaller_hooks_contrib\\\\hooks\\\\stdhooks'...\n62868 INFO: Loading module hook 'hook-openpyxl.py' from 'd:\\\\app\\\\anaconda\\\\envs\\\\py37\\\\lib\\\\site-packages\\\\_pyinstaller_hooks_contrib\\\\hooks\\\\stdhooks'...\n63039 INFO: Loading module hook 'hook-pycparser.py' from 'd:\\\\app\\\\anaconda\\\\envs\\\\py37\\\\lib\\\\site-packages\\\\_pyinstaller_hooks_contrib\\\\hooks\\\\stdhooks'...\n63040 INFO: Loading module hook 'hook-zmq.py' from 'd:\\\\app\\\\anaconda\\\\envs\\\\py37\\\\lib\\\\site-packages\\\\_pyinstaller_hooks_contrib\\\\hooks\\\\stdhooks'...\n65384 WARNING: Hidden import \"_cffi_ext.c\" not found!\n65459 WARNING: Hidden import \"file\" not found!\n65460 WARNING: Hidden import \"fatal\" not found!\n65462 WARNING: Hidden import \"directory\" not found!\n65463 WARNING: Hidden import \"or\" not found!\n65540 WARNING: Hidden import \"open\" not found!\n65541 WARNING: Hidden import \"error\" not found!\n65542 WARNING: Hidden import \"d:\\app\\anaconda\\envs\\py37\\lib\\site-packages\\zmq\\backend\\cffi\\__pycache__\\_cffi_ext.c(268):\" not found!\n65543 WARNING: Hidden import \"'zmq.h':\" not found!\n65646 WARNING: Hidden import \"Cannot\" not found!\n65648 WARNING: Hidden import \"file:\" not found!\n65649 WARNING: Hidden import \"such\" not found!\n65650 WARNING: Hidden import \"C1083:\" not found!\n65652 WARNING: Hidden import \"No\" not found!\n65652 INFO: Loading module hook 'hook-distutils.py' from 'd:\\\\app\\\\anaconda\\\\envs\\\\py37\\\\lib\\\\site-packages\\\\PyInstaller\\\\hooks'...\n65654 INFO: Loading module hook 'hook-encodings.py' from 'd:\\\\app\\\\anaconda\\\\envs\\\\py37\\\\lib\\\\site-packages\\\\PyInstaller\\\\hooks'...\n65755 INFO: Loading module hook 'hook-lib2to3.py' from 'd:\\\\app\\\\anaconda\\\\envs\\\\py37\\\\lib\\\\site-packages\\\\PyInstaller\\\\hooks'...\n65816 INFO: Loading module hook 'hook-matplotlib.backends.py' from 'd:\\\\app\\\\anaconda\\\\envs\\\\py37\\\\lib\\\\site-packages\\\\PyInstaller\\\\hooks'...\n66702 INFO:   Matplotlib backend \"GTK3Agg\": ignored\n    backend Gtk3Agg requires cairo\n67011 INFO:   Matplotlib backend \"GTK3Cairo\": ignored\n    cairo backend requires that pycairo>=1.11.0 or cairocffiis installed\n67331 INFO:   Matplotlib backend \"MacOSX\": ignored\n    cannot import name '_macosx' from 'matplotlib.backends' (d:\\app\\anaconda\\envs\\py37\\lib\\site-packages\\matplotlib\\backends\\__init__.py)\n68723 INFO:   Matplotlib backend \"nbAgg\": added\n69389 INFO:   Matplotlib backend \"Qt4Agg\": added\n69705 INFO:   Matplotlib backend \"Qt4Cairo\": ignored\n    cairo backend requires that pycairo>=1.11.0 or cairocffiis installed\n70160 INFO:   Matplotlib backend \"Qt5Agg\": added\n70472 INFO:   Matplotlib backend \"Qt5Cairo\": ignored\n    cairo backend requires that pycairo>=1.11.0 or cairocffiis installed\n71377 INFO:   Matplotlib backend \"TkAgg\": added\n71900 INFO:   Matplotlib backend \"TkCairo\": ignored\n    cairo backend requires that pycairo>=1.11.0 or cairocffiis installed\n72418 INFO:   Matplotlib backend \"WebAgg\": added\n72917 INFO:   Matplotlib backend \"WX\": ignored\n    No module named 'wx'\n73241 INFO:   Matplotlib backend \"WXAgg\": ignored\n    No module named 'wx'\n73549 INFO:   Matplotlib backend \"WXCairo\": ignored\n    No module named 'wx'\n73938 INFO:   Matplotlib backend \"agg\": added\n74247 INFO:   Matplotlib backend \"cairo\": ignored\n    cairo backend requires that pycairo>=1.11.0 or cairocffiis installed\n74888 INFO:   Matplotlib backend \"pdf\": added\n75397 INFO:   Matplotlib backend \"pgf\": added\n75797 INFO:   Matplotlib backend \"ps\": added\n76208 INFO:   Matplotlib backend \"svg\": added\n76711 INFO:   Matplotlib backend \"template\": added\n77132 INFO: Loading module hook 'hook-matplotlib.py' from 'd:\\\\app\\\\anaconda\\\\envs\\\\py37\\\\lib\\\\site-packages\\\\PyInstaller\\\\hooks'...\n77467 INFO: Loading module hook 'hook-numpy.core.py' from 'd:\\\\app\\\\anaconda\\\\envs\\\\py37\\\\lib\\\\site-packages\\\\PyInstaller\\\\hooks'...\n77621 INFO: MKL libraries found when importing numpy. Adding MKL to binaries\n77625 INFO: Loading module hook 'hook-numpy.py' from 'd:\\\\app\\\\anaconda\\\\envs\\\\py37\\\\lib\\\\site-packages\\\\PyInstaller\\\\hooks'...\n77626 INFO: Loading module hook 'hook-pandas.py' from 'd:\\\\app\\\\anaconda\\\\envs\\\\py37\\\\lib\\\\site-packages\\\\PyInstaller\\\\hooks'...\n78455 INFO: Loading module hook 'hook-PIL.Image.py' from 'd:\\\\app\\\\anaconda\\\\envs\\\\py37\\\\lib\\\\site-packages\\\\PyInstaller\\\\hooks'...\n78921 INFO: Loading module hook 'hook-PIL.py' from 'd:\\\\app\\\\anaconda\\\\envs\\\\py37\\\\lib\\\\site-packages\\\\PyInstaller\\\\hooks'...\n78925 INFO: Excluding import 'tkinter'\n78928 INFO:   Removing import of tkinter from module PIL.ImageTk\n78929 INFO: Excluding import 'PyQt5'\n78932 INFO:   Removing import of PyQt5.QtGui from module PIL.ImageQt\n78932 INFO:   Removing import of PyQt5.QtCore from module PIL.ImageQt\n78933 INFO: Excluding import 'PySide'\n78937 INFO: Import to be excluded not found: 'FixTk'\n78937 INFO: Excluding import 'PyQt4'\n78941 INFO: Loading module hook 'hook-PIL.SpiderImagePlugin.py' from 'd:\\\\app\\\\anaconda\\\\envs\\\\py37\\\\lib\\\\site-packages\\\\PyInstaller\\\\hooks'...\n78944 INFO: Import to be excluded not found: 'FixTk'\n78944 INFO: Excluding import 'tkinter'\n78947 INFO: Loading module hook 'hook-pkg_resources.py' from 'd:\\\\app\\\\anaconda\\\\envs\\\\py37\\\\lib\\\\site-packages\\\\PyInstaller\\\\hooks'...\n79619 INFO: Processing pre-safe import module hook win32com from 'd:\\\\app\\\\anaconda\\\\envs\\\\py37\\\\lib\\\\site-packages\\\\_pyinstaller_hooks_contrib\\\\hooks\\\\pre_safe_import_module\\\\hook-win32com.py'.\n80026 WARNING: Hidden import \"pkg_resources.py2_warn\" not found!\n80152 WARNING: Hidden import \"pkg_resources.markers\" not found!\n80155 INFO: Excluding import '__main__'\n80158 INFO:   Removing import of __main__ from module pkg_resources\n80158 INFO: Loading module hook 'hook-pygments.py' from 'd:\\\\app\\\\anaconda\\\\envs\\\\py37\\\\lib\\\\site-packages\\\\PyInstaller\\\\hooks'...\n81818 INFO: Loading module hook 'hook-PyQt5.py' from 'd:\\\\app\\\\anaconda\\\\envs\\\\py37\\\\lib\\\\site-packages\\\\PyInstaller\\\\hooks'...\n85002 WARNING: Hidden import \"PyQt5.sip\" not found!\n85002 INFO: Loading module hook 'hook-PyQt5.QtCore.py' from 'd:\\\\app\\\\anaconda\\\\envs\\\\py37\\\\lib\\\\site-packages\\\\PyInstaller\\\\hooks'...\n85089 INFO: Loading module hook 'hook-PyQt5.QtGui.py' from 'd:\\\\app\\\\anaconda\\\\envs\\\\py37\\\\lib\\\\site-packages\\\\PyInstaller\\\\hooks'...\n85296 INFO: Loading module hook 'hook-PyQt5.QtSvg.py' from 'd:\\\\app\\\\anaconda\\\\envs\\\\py37\\\\lib\\\\site-packages\\\\PyInstaller\\\\hooks'...\n85528 INFO: Loading module hook 'hook-PyQt5.QtWidgets.py' from 'd:\\\\app\\\\anaconda\\\\envs\\\\py37\\\\lib\\\\site-packages\\\\PyInstaller\\\\hooks'...\n85750 INFO: Loading module hook 'hook-pytz.py' from 'd:\\\\app\\\\anaconda\\\\envs\\\\py37\\\\lib\\\\site-packages\\\\PyInstaller\\\\hooks'...\n86039 INFO: Loading module hook 'hook-scipy.linalg.py' from 'd:\\\\app\\\\anaconda\\\\envs\\\\py37\\\\lib\\\\site-packages\\\\PyInstaller\\\\hooks'...\n86042 INFO: Loading module hook 'hook-scipy.py' from 'd:\\\\app\\\\anaconda\\\\envs\\\\py37\\\\lib\\\\site-packages\\\\PyInstaller\\\\hooks'...\n86045 INFO: Loading module hook 'hook-scipy.sparse.csgraph.py' from 'd:\\\\app\\\\anaconda\\\\envs\\\\py37\\\\lib\\\\site-packages\\\\PyInstaller\\\\hooks'...\n86049 INFO: Loading module hook 'hook-scipy.special._ellip_harm_2.py' from 'd:\\\\app\\\\anaconda\\\\envs\\\\py37\\\\lib\\\\site-packages\\\\PyInstaller\\\\hooks'...\n86049 INFO: Loading module hook 'hook-scipy.special._ufuncs.py' from 'd:\\\\app\\\\anaconda\\\\envs\\\\py37\\\\lib\\\\site-packages\\\\PyInstaller\\\\hooks'...\n86050 INFO: Loading module hook 'hook-scipy.stats._stats.py' from 'd:\\\\app\\\\anaconda\\\\envs\\\\py37\\\\lib\\\\site-packages\\\\PyInstaller\\\\hooks'...\n86051 INFO: Loading module hook 'hook-setuptools.py' from 'd:\\\\app\\\\anaconda\\\\envs\\\\py37\\\\lib\\\\site-packages\\\\PyInstaller\\\\hooks'...\n86912 INFO: Loading module hook 'hook-shelve.py' from 'd:\\\\app\\\\anaconda\\\\envs\\\\py37\\\\lib\\\\site-packages\\\\PyInstaller\\\\hooks'...\n86921 INFO: Loading module hook 'hook-sqlite3.py' from 'd:\\\\app\\\\anaconda\\\\envs\\\\py37\\\\lib\\\\site-packages\\\\PyInstaller\\\\hooks'...\n87023 INFO: Loading module hook 'hook-sysconfig.py' from 'd:\\\\app\\\\anaconda\\\\envs\\\\py37\\\\lib\\\\site-packages\\\\PyInstaller\\\\hooks'...\n87024 INFO: Loading module hook 'hook-wcwidth.py' from 'd:\\\\app\\\\anaconda\\\\envs\\\\py37\\\\lib\\\\site-packages\\\\PyInstaller\\\\hooks'...\n87029 INFO: Loading module hook 'hook-xml.dom.domreg.py' from 'd:\\\\app\\\\anaconda\\\\envs\\\\py37\\\\lib\\\\site-packages\\\\PyInstaller\\\\hooks'...\n87030 INFO: Loading module hook 'hook-xml.etree.cElementTree.py' from 'd:\\\\app\\\\anaconda\\\\envs\\\\py37\\\\lib\\\\site-packages\\\\PyInstaller\\\\hooks'...\n87031 INFO: Loading module hook 'hook-xml.py' from 'd:\\\\app\\\\anaconda\\\\envs\\\\py37\\\\lib\\\\site-packages\\\\PyInstaller\\\\hooks'...\n87031 INFO: Loading module hook 'hook-_tkinter.py' from 'd:\\\\app\\\\anaconda\\\\envs\\\\py37\\\\lib\\\\site-packages\\\\PyInstaller\\\\hooks'...\n87220 INFO: checking Tree\n87220 INFO: Building Tree because Tree-00.toc is non existent\n87220 INFO: Building Tree Tree-00.toc\n87305 INFO: checking Tree\n87306 INFO: Building Tree because Tree-01.toc is non existent\n87306 INFO: Building Tree Tree-01.toc\n87320 INFO: Loading module hook 'hook-pythoncom.py' from 'd:\\\\app\\\\anaconda\\\\envs\\\\py37\\\\lib\\\\site-packages\\\\_pyinstaller_hooks_contrib\\\\hooks\\\\stdhooks'...\n87890 INFO: Loading module hook 'hook-pywintypes.py' from 'd:\\\\app\\\\anaconda\\\\envs\\\\py37\\\\lib\\\\site-packages\\\\_pyinstaller_hooks_contrib\\\\hooks\\\\stdhooks'...\n88459 INFO: Loading module hook 'hook-win32com.py' from 'd:\\\\app\\\\anaconda\\\\envs\\\\py37\\\\lib\\\\site-packages\\\\_pyinstaller_hooks_contrib\\\\hooks\\\\stdhooks'...\n89083 INFO: Loading module hook 'hook-packaging.py' from 'd:\\\\app\\\\anaconda\\\\envs\\\\py37\\\\lib\\\\site-packages\\\\PyInstaller\\\\hooks'...\n89233 INFO: Looking for ctypes DLLs\n89463 INFO: Analyzing run-time hooks ...\n89481 INFO: Including run-time hook 'd:\\\\app\\\\anaconda\\\\envs\\\\py37\\\\lib\\\\site-packages\\\\PyInstaller\\\\hooks\\\\rthooks\\\\pyi_rth_multiprocessing.py'\n89484 INFO: Including run-time hook 'd:\\\\app\\\\anaconda\\\\envs\\\\py37\\\\lib\\\\site-packages\\\\PyInstaller\\\\hooks\\\\rthooks\\\\pyi_rth_pkgres.py'\n89486 INFO: Including run-time hook 'd:\\\\app\\\\anaconda\\\\envs\\\\py37\\\\lib\\\\site-packages\\\\PyInstaller\\\\hooks\\\\rthooks\\\\pyi_rth_win32comgenpy.py'\n89488 INFO: Including run-time hook 'd:\\\\app\\\\anaconda\\\\envs\\\\py37\\\\lib\\\\site-packages\\\\PyInstaller\\\\hooks\\\\rthooks\\\\pyi_rth_pyqt5.py'\n89489 INFO: Including run-time hook 'd:\\\\app\\\\anaconda\\\\envs\\\\py37\\\\lib\\\\site-packages\\\\_pyinstaller_hooks_contrib\\\\hooks\\\\rthooks\\\\pyi_rth_traitlets.py'\n89490 INFO: Including run-time hook 'd:\\\\app\\\\anaconda\\\\envs\\\\py37\\\\lib\\\\site-packages\\\\PyInstaller\\\\hooks\\\\rthooks\\\\pyi_rth_mplconfig.py'\n89491 INFO: Including run-time hook 'd:\\\\app\\\\anaconda\\\\envs\\\\py37\\\\lib\\\\site-packages\\\\PyInstaller\\\\hooks\\\\rthooks\\\\pyi_rth_mpldata.py'\n89492 INFO: Including run-time hook 'd:\\\\app\\\\anaconda\\\\envs\\\\py37\\\\lib\\\\site-packages\\\\_pyinstaller_hooks_contrib\\\\hooks\\\\rthooks\\\\pyi_rth_certifi.py'\n89493 INFO: Including run-time hook 'd:\\\\app\\\\anaconda\\\\envs\\\\py37\\\\lib\\\\site-packages\\\\PyInstaller\\\\hooks\\\\rthooks\\\\pyi_rth__tkinter.py'\n89537 INFO: Looking for dynamic libraries\n89707 WARNING: lib not found: impi.dll dependency of d:\\app\\anaconda\\envs\\py37\\Library\\bin\\mkl_blacs_intelmpi_lp64.dll\n89771 WARNING: lib not found: mpich2mpi.dll dependency of d:\\app\\anaconda\\envs\\py37\\Library\\bin\\mkl_blacs_mpich2_ilp64.dll\n90049 WARNING: lib not found: pgf90rtl.dll dependency of d:\\app\\anaconda\\envs\\py37\\Library\\bin\\mkl_pgi_thread.dll\n90052 WARNING: lib not found: pgf90.dll dependency of d:\\app\\anaconda\\envs\\py37\\Library\\bin\\mkl_pgi_thread.dll\n90057 WARNING: lib not found: pgc14.dll dependency of d:\\app\\anaconda\\envs\\py37\\Library\\bin\\mkl_pgi_thread.dll\n90066 WARNING: lib not found: msmpi.dll dependency of d:\\app\\anaconda\\envs\\py37\\Library\\bin\\mkl_blacs_msmpi_ilp64.dll\n90192 WARNING: lib not found: mpich2mpi.dll dependency of d:\\app\\anaconda\\envs\\py37\\Library\\bin\\mkl_blacs_mpich2_lp64.dll\n90802 WARNING: lib not found: impi.dll dependency of d:\\app\\anaconda\\envs\\py37\\Library\\bin\\mkl_blacs_intelmpi_ilp64.dll\n90811 WARNING: lib not found: msmpi.dll dependency of d:\\app\\anaconda\\envs\\py37\\Library\\bin\\mkl_blacs_msmpi_lp64.dll\n93189 INFO: Looking for eggs\n93190 INFO: Using Python library d:\\app\\anaconda\\envs\\py37\\python37.dll\n93190 INFO: Found binding redirects: \n[]\n93215 INFO: Warnings written to d:\\work\\专利查询和搜集\\build\\重写可视化\\warn-重写可视化.txt\n93640 INFO: Graph cross-reference written to d:\\work\\专利查询和搜集\\build\\重写可视化\\xref-重写可视化.html\n93885 INFO: checking PYZ\n93885 INFO: Building PYZ because PYZ-00.toc is non existent\n93885 INFO: Building PYZ (ZlibArchive) d:\\work\\专利查询和搜集\\build\\重写可视化\\PYZ-00.pyz\n98539 INFO: Building PYZ (ZlibArchive) d:\\work\\专利查询和搜集\\build\\重写可视化\\PYZ-00.pyz completed successfully.\n98619 INFO: checking PKG\n98619 INFO: Building PKG because PKG-00.toc is non existent\n98619 INFO: Building PKG (CArchive) PKG-00.pkg\n187658 INFO: Building PKG (CArchive) PKG-00.pkg completed successfully.\n187828 INFO: Bootloader d:\\app\\anaconda\\envs\\py37\\lib\\site-packages\\PyInstaller\\bootloader\\Windows-64bit\\run.exe\n187829 INFO: checking EXE\n187829 INFO: Building EXE because EXE-00.toc is non existent\n187829 INFO: Building EXE from EXE-00.toc\n187830 INFO: Appending archive to EXE d:\\work\\专利查询和搜集\\dist\\重写可视化.exe\n188085 INFO: Building EXE from EXE-00.toc completed successfully.\n"
     ]
    }
   ],
   "source": [
    "!pyinstaller -F 重写可视化.py"
   ]
  },
  {
   "cell_type": "code",
   "execution_count": null,
   "metadata": {},
   "outputs": [],
   "source": [
    "!pyinstaller 重写可视化.py --upx-dir=D:\\app\\upx\\ -y --onefile\n",
    "\n"
   ]
  },
  {
   "cell_type": "code",
   "execution_count": 2,
   "metadata": {},
   "outputs": [],
   "source": [
    "AAA = [\"aaa\",\"bbb\",\"ccc\"]\n",
    "BBB = [\"aaa\"]"
   ]
  },
  {
   "cell_type": "code",
   "execution_count": 3,
   "metadata": {},
   "outputs": [
    {
     "output_type": "execute_result",
     "data": {
      "text/plain": [
       "['aaa', 'bbb', 'ccc']"
      ]
     },
     "metadata": {},
     "execution_count": 3
    }
   ],
   "source": [
    "AAA"
   ]
  },
  {
   "cell_type": "code",
   "execution_count": 4,
   "metadata": {},
   "outputs": [
    {
     "output_type": "execute_result",
     "data": {
      "text/plain": [
       "['aaa']"
      ]
     },
     "metadata": {},
     "execution_count": 4
    }
   ],
   "source": [
    "BBB"
   ]
  },
  {
   "cell_type": "code",
   "execution_count": 7,
   "metadata": {},
   "outputs": [],
   "source": [
    "A = [A for A in AAA if A not in BBB]"
   ]
  },
  {
   "cell_type": "code",
   "execution_count": 8,
   "metadata": {},
   "outputs": [
    {
     "output_type": "execute_result",
     "data": {
      "text/plain": [
       "['bbb', 'ccc']"
      ]
     },
     "metadata": {},
     "execution_count": 8
    }
   ],
   "source": [
    "A"
   ]
  },
  {
   "cell_type": "code",
   "execution_count": null,
   "metadata": {},
   "outputs": [],
   "source": []
  }
 ],
 "metadata": {
  "kernelspec": {
   "name": "Python 3.7.9 64-bit ('py37': conda)",
   "display_name": "Python 3.7.9 64-bit ('py37': conda)",
   "metadata": {
    "interpreter": {
     "hash": "3f67747efba5d5ed495feb4e3e03b46c5a49a9c26592bc26ef0a4c665f0909f8"
    }
   }
  },
  "language_info": {
   "codemirror_mode": {
    "name": "ipython",
    "version": 3
   },
   "file_extension": ".py",
   "mimetype": "text/x-python",
   "name": "python",
   "nbconvert_exporter": "python",
   "pygments_lexer": "ipython3",
   "version": "3.7.9-final"
  }
 },
 "nbformat": 4,
 "nbformat_minor": 4
}