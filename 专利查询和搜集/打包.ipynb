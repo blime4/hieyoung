{
 "cells": [
  {
   "cell_type": "code",
   "execution_count": 2,
   "metadata": {},
   "outputs": [
    {
     "output_type": "stream",
     "name": "stderr",
     "text": [
      "67 INFO: PyInstaller: 4.0\n67 INFO: Python: 3.7.9 (conda)\n67 INFO: Platform: Windows-10-10.0.18362-SP0\n68 INFO: wrote d:\\work\\专利查询和搜集\\重写可视化.spec\n71 INFO: UPX is not available.\n71 INFO: Extending PYTHONPATH with paths\n['d:\\\\work\\\\专利查询和搜集', 'd:\\\\work\\\\专利查询和搜集']\n97 INFO: checking Analysis\n861 INFO: checking PYZ\n1046 INFO: checking PKG\n1506 INFO: Building because d:\\work\\专利查询和搜集\\build\\重写可视化\\重写可视化.exe.manifest changed\n1507 INFO: Building PKG (CArchive) PKG-00.pkg\n89691 INFO: Building PKG (CArchive) PKG-00.pkg completed successfully.\n89860 INFO: Bootloader d:\\app\\anaconda\\envs\\py37\\lib\\site-packages\\PyInstaller\\bootloader\\Windows-64bit\\run.exe\n89860 INFO: checking EXE\n89930 INFO: Rebuilding EXE-00.toc because pkg is more recent\n89930 INFO: Building EXE from EXE-00.toc\n89956 INFO: Appending archive to EXE d:\\work\\专利查询和搜集\\dist\\重写可视化.exe\n90266 INFO: Building EXE from EXE-00.toc completed successfully.\n"
     ]
    }
   ],
   "source": [
    "!pyinstaller -F 重写可视化.py"
   ]
  },
  {
   "cell_type": "code",
   "execution_count": null,
   "metadata": {},
   "outputs": [],
   "source": []
  }
 ],
 "metadata": {
  "kernelspec": {
   "name": "Python 3.7.9 64-bit ('py37': conda)",
   "display_name": "Python 3.7.9 64-bit ('py37': conda)",
   "metadata": {
    "interpreter": {
     "hash": "3f67747efba5d5ed495feb4e3e03b46c5a49a9c26592bc26ef0a4c665f0909f8"
    }
   }
  },
  "language_info": {
   "codemirror_mode": {
    "name": "ipython",
    "version": 3
   },
   "file_extension": ".py",
   "mimetype": "text/x-python",
   "name": "python",
   "nbconvert_exporter": "python",
   "pygments_lexer": "ipython3",
   "version": "3.7.9-final"
  }
 },
 "nbformat": 4,
 "nbformat_minor": 4
}