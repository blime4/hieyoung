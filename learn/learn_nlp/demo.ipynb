{
 "cells": [
  {
   "cell_type": "markdown",
   "metadata": {},
   "source": [
    "# 从词素中提取词干"
   ]
  },
  {
   "cell_type": "code",
   "execution_count": 3,
   "metadata": {},
   "outputs": [],
   "source": [
    "from polyglot.text import Text,Word\n",
    "from nltk.stem import PorterStemmer"
   ]
  },
  {
   "cell_type": "code",
   "execution_count": 27,
   "metadata": {},
   "outputs": [],
   "source": [
    "word = \"unexpected\"\n",
    "text = \"disagreement\"\n",
    "text1 = \"disagree\"\n",
    "text2 = \"agreement\"\n",
    "text3 = \"quirkiness\"\n",
    "text4 = \"historical\"\n",
    "text5 = \"canonical\"\n",
    "text6 = \"happiness\"\n",
    "text7 = \"unkind\"\n",
    "text8 = \"dogs\"\n",
    "text9 = \"expected\"\n",
    "words_derv = [\"happiness\", \"unkind\"]\n",
    "word_infle = [\"dogs\", \"expected\"]\n",
    "words = [\"unexpected\", \"disagreement\", \"disagree\", \"agreement\", \"quirkiness\", \"canonical\", \"historical\"]"
   ]
  },
  {
   "cell_type": "code",
   "execution_count": 28,
   "metadata": {},
   "outputs": [
    {
     "name": "stdout",
     "output_type": "stream",
     "text": [
      "happi\n"
     ]
    }
   ],
   "source": [
    "port = PorterStemmer()\n",
    "print(\" \".join([port.stem(i) for i in text6.split()]))"
   ]
  },
  {
   "cell_type": "code",
   "execution_count": 33,
   "metadata": {},
   "outputs": [
    {
     "name": "stdout",
     "output_type": "stream",
     "text": [
      "[polyglot_data] Downloading package morph2.en to C:\\Users\\blime-\n",
      "[polyglot_data]     work\\AppData\\Roaming\\polyglot_data...\n"
     ]
    }
   ],
   "source": [
    "!polyglot download morph2.en"
   ]
  },
  {
   "cell_type": "code",
   "execution_count": 34,
   "metadata": {},
   "outputs": [
    {
     "name": "stdout",
     "output_type": "stream",
     "text": [
      "unexpected          ['un', 'expect', 'ed']\n",
      "disagreement        ['disagree', 'ment']\n",
      "disagree            ['disagree']\n",
      "agreement           ['agree', 'ment']\n",
      "quirkiness          ['qui', 'r', 'ki', 'ness']\n",
      "canonical           ['canon', 'ical']\n",
      "historical          ['historic', 'al']\n"
     ]
    }
   ],
   "source": [
    "for w in words:\n",
    "    w = Word(w, language=\"en\")\n",
    "    print(\"{:<20}{}\".format(w, w.morphemes))\n",
    "#     print(type(w))"
   ]
  },
  {
   "cell_type": "markdown",
   "metadata": {},
   "source": [
    "# 导出词条"
   ]
  },
  {
   "cell_type": "code",
   "execution_count": 35,
   "metadata": {},
   "outputs": [],
   "source": [
    "from nltk.tokenize import word_tokenize\n",
    "from nltk.stem.wordnet import WordNetLemmatizer"
   ]
  },
  {
   "cell_type": "code",
   "execution_count": 36,
   "metadata": {},
   "outputs": [
    {
     "data": {
      "text/plain": [
       "['Got',\n",
       " '2',\n",
       " 'of',\n",
       " 'these',\n",
       " 'for',\n",
       " 'my',\n",
       " '9',\n",
       " 'cubic',\n",
       " 'ft',\n",
       " 'chest',\n",
       " 'freezer',\n",
       " '.',\n",
       " 'Fit',\n",
       " 'great',\n",
       " '.',\n",
       " 'I',\n",
       " 'can',\n",
       " 'probably',\n",
       " 'fit',\n",
       " 'six',\n",
       " 'total',\n",
       " '.',\n",
       " 'I',\n",
       " '’',\n",
       " 'll',\n",
       " 'be',\n",
       " 'ordering',\n",
       " 'more',\n",
       " 'soon',\n",
       " '.']"
      ]
     },
     "execution_count": 36,
     "metadata": {},
     "output_type": "execute_result"
    }
   ],
   "source": [
    "comment = \"Got 2 of these for my 9 cubic ft chest freezer. Fit great. I can probably fit six total. I’ll be ordering more soon.\"\n",
    "word_tokenize(comment)"
   ]
  },
  {
   "cell_type": "code",
   "execution_count": null,
   "metadata": {},
   "outputs": [],
   "source": []
  }
 ],
 "metadata": {
  "kernelspec": {
   "display_name": "Python [conda env:py37]",
   "language": "python",
   "name": "conda-env-py37-py"
  }
 },
 "nbformat": 4,
 "nbformat_minor": 4
}
