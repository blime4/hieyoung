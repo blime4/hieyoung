{
 "cells": [
  {
   "cell_type": "code",
   "execution_count": 1,
   "metadata": {},
   "outputs": [],
   "source": [
    "import sys"
   ]
  },
  {
   "cell_type": "code",
   "execution_count": null,
   "metadata": {},
   "outputs": [],
   "source": [
    "class PorterStemmer:\n",
    "    def __init__(self):\n",
    "        self.b = \"\"\n",
    "        self.k = 0\n",
    "        self.k0 = 0\n",
    "        self.j = 0\n",
    "    def cons(self,i):\n",
    "        \"\"\"cons(i) is TRUE <=> b[i] is a consonant.\"\"\"\n",
    "        if self.b[i]=='a' or self.b[i]==\"e\" or self.b[i]=='i' or self.b[i]==\"o\" or self.b[i] == \"u\":\n",
    "            return 0\n",
    "        if self.b[i] == \"y\":\n",
    "            if i == self.k0:\n",
    "                return 1\n",
    "            else:\n",
    "                return(not self.cons(i-1))\n",
    "        return 1\n",
    "    def m(self):\n",
    "        \"\"\"m() measures the number of consonant sequences between k0 and j.\n",
    "        if c is a consonant sequence and v a vowel sequence, and <..>\n",
    "        indicates arbitrary presence,\n",
    "\n",
    "           <c><v>       gives 0\n",
    "           <c>vc<v>     gives 1\n",
    "           <c>vcvc<v>   gives 2\n",
    "           <c>vcvcvc<v> gives 3\n",
    "           ..\n",
    "           ..\n",
    "        \"\"\"\n",
    "        n = 0\n",
    "        i = self.k0\n",
    "        while 1:\n",
    "            if i >self.j:\n",
    "                return n\n",
    "            if self.cons(i):\n",
    "                break\n",
    "            i = i+1\n",
    "        i = i+1\n",
    "        while 1:\n",
    "            "
   ]
  }
 ],
 "metadata": {
  "kernelspec": {
   "display_name": "Python [conda env:py37]",
   "language": "python",
   "name": "conda-env-py37-py"
  },
  "language_info": {
   "codemirror_mode": {
    "name": "ipython",
    "version": 3
   },
   "file_extension": ".py",
   "mimetype": "text/x-python",
   "name": "python",
   "nbconvert_exporter": "python",
   "pygments_lexer": "ipython3",
   "version": "3.7.9"
  }
 },
 "nbformat": 4,
 "nbformat_minor": 4
}
