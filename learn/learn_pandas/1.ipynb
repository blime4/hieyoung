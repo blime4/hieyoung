{
 "cells": [
  {
   "cell_type": "code",
   "execution_count": 2,
   "metadata": {},
   "outputs": [
    {
     "data": {
      "text/plain": [
       "DatetimeIndex(['2020-09-23', '2020-09-24', '2020-09-25', '2020-09-26',\n",
       "               '2020-09-27', '2020-09-28'],\n",
       "              dtype='datetime64[ns]', freq='D')"
      ]
     },
     "execution_count": 2,
     "metadata": {},
     "output_type": "execute_result"
    }
   ],
   "source": [
    "import pandas as pd\n",
    "import numpy as np\n",
    "\n",
    "dates = pd.date_range('20200923', periods=6)\n",
    "dates"
   ]
  },
  {
   "cell_type": "code",
   "execution_count": 3,
   "metadata": {},
   "outputs": [
    {
     "data": {
      "text/html": [
       "<div>\n",
       "<style scoped>\n",
       "    .dataframe tbody tr th:only-of-type {\n",
       "        vertical-align: middle;\n",
       "    }\n",
       "\n",
       "    .dataframe tbody tr th {\n",
       "        vertical-align: top;\n",
       "    }\n",
       "\n",
       "    .dataframe thead th {\n",
       "        text-align: right;\n",
       "    }\n",
       "</style>\n",
       "<table border=\"1\" class=\"dataframe\">\n",
       "  <thead>\n",
       "    <tr style=\"text-align: right;\">\n",
       "      <th></th>\n",
       "      <th>A</th>\n",
       "      <th>B</th>\n",
       "      <th>C</th>\n",
       "      <th>D</th>\n",
       "    </tr>\n",
       "  </thead>\n",
       "  <tbody>\n",
       "    <tr>\n",
       "      <th>2020-09-23</th>\n",
       "      <td>1.183151</td>\n",
       "      <td>-0.531103</td>\n",
       "      <td>0.809156</td>\n",
       "      <td>0.390852</td>\n",
       "    </tr>\n",
       "    <tr>\n",
       "      <th>2020-09-24</th>\n",
       "      <td>0.641322</td>\n",
       "      <td>-1.528002</td>\n",
       "      <td>-0.317095</td>\n",
       "      <td>1.447430</td>\n",
       "    </tr>\n",
       "    <tr>\n",
       "      <th>2020-09-25</th>\n",
       "      <td>1.722126</td>\n",
       "      <td>1.098747</td>\n",
       "      <td>0.226585</td>\n",
       "      <td>-0.392868</td>\n",
       "    </tr>\n",
       "    <tr>\n",
       "      <th>2020-09-26</th>\n",
       "      <td>-0.467450</td>\n",
       "      <td>-0.298514</td>\n",
       "      <td>-1.017425</td>\n",
       "      <td>-1.194831</td>\n",
       "    </tr>\n",
       "    <tr>\n",
       "      <th>2020-09-27</th>\n",
       "      <td>1.708322</td>\n",
       "      <td>1.035334</td>\n",
       "      <td>-0.473027</td>\n",
       "      <td>-0.073528</td>\n",
       "    </tr>\n",
       "    <tr>\n",
       "      <th>2020-09-28</th>\n",
       "      <td>-2.792892</td>\n",
       "      <td>0.043358</td>\n",
       "      <td>-0.748688</td>\n",
       "      <td>1.110993</td>\n",
       "    </tr>\n",
       "  </tbody>\n",
       "</table>\n",
       "</div>"
      ],
      "text/plain": [
       "                   A         B         C         D\n",
       "2020-09-23  1.183151 -0.531103  0.809156  0.390852\n",
       "2020-09-24  0.641322 -1.528002 -0.317095  1.447430\n",
       "2020-09-25  1.722126  1.098747  0.226585 -0.392868\n",
       "2020-09-26 -0.467450 -0.298514 -1.017425 -1.194831\n",
       "2020-09-27  1.708322  1.035334 -0.473027 -0.073528\n",
       "2020-09-28 -2.792892  0.043358 -0.748688  1.110993"
      ]
     },
     "execution_count": 3,
     "metadata": {},
     "output_type": "execute_result"
    }
   ],
   "source": [
    "df = pd.DataFrame(np.random.randn(6, 4), index=dates, columns=list('ABCD'))\n",
    "df"
   ]
  },
  {
   "cell_type": "code",
   "execution_count": null,
   "metadata": {},
   "outputs": [],
   "source": []
  }
 ],
 "metadata": {
  "kernelspec": {
   "display_name": "Python [conda env:py37]",
   "language": "python",
   "name": "conda-env-py37-py"
  },
  "language_info": {
   "codemirror_mode": {
    "name": "ipython",
    "version": 3
   },
   "file_extension": ".py",
   "mimetype": "text/x-python",
   "name": "python",
   "nbconvert_exporter": "python",
   "pygments_lexer": "ipython3",
   "version": "3.7.9"
  }
 },
 "nbformat": 4,
 "nbformat_minor": 4
}
