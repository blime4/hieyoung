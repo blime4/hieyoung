{
 "cells": [
  {
   "cell_type": "code",
   "execution_count": 1,
   "metadata": {
    "tags": []
   },
   "outputs": [
    {
     "name": "stderr",
     "output_type": "stream",
     "text": [
      "65 INFO: PyInstaller: 4.0\n",
      "65 INFO: Python: 3.7.9 (conda)\n",
      "66 INFO: Platform: Windows-10-10.0.18362-SP0\n",
      "67 INFO: wrote d:\\work\\关键词可视化\\关键词可视化.spec\n",
      "70 INFO: UPX is not available.\n",
      "72 INFO: Extending PYTHONPATH with paths\n",
      "['d:\\\\work\\\\关键词可视化', 'd:\\\\work\\\\关键词可视化']\n",
      "98 INFO: checking Analysis\n",
      "1297 INFO: checking PYZ\n",
      "1707 INFO: checking PKG\n",
      "2246 INFO: Building because d:\\work\\关键词可视化\\build\\关键词可视化\\关键词可视化.exe.manifest changed\n",
      "2247 INFO: Building PKG (CArchive) PKG-00.pkg\n",
      "5137 WARNING: One binary added with two internal names.\n",
      "5137 WARNING: ('_pywrap_tensorflow_internal.pyd',\n",
      " 'd:\\\\app\\\\anaconda\\\\envs\\\\py37\\\\lib\\\\site-packages\\\\tensorflow_core\\\\python\\\\_pywrap_tensorflow_internal.pyd',\n",
      " 'BINARY')\n",
      "5137 WARNING: was placed previously at\n",
      "5137 WARNING: ('tensorflow_core\\\\python\\\\_pywrap_tensorflow_internal.pyd',\n",
      " 'd:\\\\app\\\\anaconda\\\\envs\\\\py37\\\\lib\\\\site-packages\\\\tensorflow_core\\\\python\\\\_pywrap_tensorflow_internal.pyd',\n",
      " 'EXTENSION')\n",
      "144581 INFO: Building PKG (CArchive) PKG-00.pkg completed successfully.\n",
      "144789 INFO: Bootloader d:\\app\\anaconda\\envs\\py37\\lib\\site-packages\\PyInstaller\\bootloader\\Windows-64bit\\run.exe\n",
      "144790 INFO: checking EXE\n",
      "144872 INFO: Rebuilding EXE-00.toc because pkg is more recent\n",
      "144873 INFO: Building EXE from EXE-00.toc\n",
      "144962 INFO: Appending archive to EXE d:\\work\\关键词可视化\\dist\\关键词可视化.exe\n",
      "146084 INFO: Building EXE from EXE-00.toc completed successfully.\n"
     ]
    }
   ],
   "source": [
    "!pyinstaller -F 关键词可视化.py"
   ]
  },
  {
   "cell_type": "code",
   "execution_count": null,
   "metadata": {},
   "outputs": [],
   "source": []
  }
 ],
 "metadata": {
  "kernelspec": {
   "display_name": "Python [conda env:keshihua2]",
   "language": "python",
   "name": "conda-env-keshihua2-py"
  },
  "language_info": {
   "codemirror_mode": {
    "name": "ipython",
    "version": 3
   },
   "file_extension": ".py",
   "mimetype": "text/x-python",
   "name": "python",
   "nbconvert_exporter": "python",
   "pygments_lexer": "ipython3",
   "version": "3.7.9-final"
  }
 },
 "nbformat": 4,
 "nbformat_minor": 4
}
