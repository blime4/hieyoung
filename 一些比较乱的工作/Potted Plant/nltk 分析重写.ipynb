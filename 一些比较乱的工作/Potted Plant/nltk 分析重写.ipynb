{
 "cells": [
  {
   "cell_type": "code",
   "execution_count": 1,
   "metadata": {},
   "outputs": [
    {
     "name": "stderr",
     "output_type": "stream",
     "text": [
      "D:\\app\\anaconda\\envs\\py37\\lib\\importlib\\_bootstrap.py:219: RuntimeWarning: numpy.ufunc size changed, may indicate binary incompatibility. Expected 192 from C header, got 216 from PyObject\n",
      "  return f(*args, **kwds)\n"
     ]
    }
   ],
   "source": [
    "import numpy as np\n",
    "import pandas as pd\n",
    "import os\n",
    "from nltk.tokenize import RegexpTokenizer\n",
    "from nltk.corpus import stopwords\n",
    "from nltk.stem.porter import PorterStemmer\n",
    "from gensim import corpora,models\n",
    "import gensim\n",
    "from nltk.util import ngrams\n",
    "import emoji\n",
    "from itertools import chain\n",
    "\n",
    "path = \"./dataset/\""
   ]
  },
  {
   "cell_type": "code",
   "execution_count": null,
   "metadata": {},
   "outputs": [],
   "source": [
    "def get_one_two_three(selects):\n",
    "    one_select = {}\n",
    "    two_select = {}\n",
    "    whree_select = {}\n",
    "    for select in selects:\n",
    "        tokenizer = RegexpTokenizer(r\"\\w+\")\n",
    "        one_tokens = tokenizer.tokenize(select)\n",
    "        one_tokens = [i for i in one_tokens if(i.lower() not in stopwords.words(\"english\"))]\n",
    "        two_tokens = ngrams(one_tokens,2)\n",
    "        three_tokens = ngrams(one_tokens,3)\n",
    "        one_tokens = list(set(one_tokens))\n",
    "        two_tokens = list(set(two_tokens))\n",
    "        three_tokens = list(set(three_tokens))\n",
    "        for i in one_tokens:\n",
    "            if i not in one_select:\n",
    "                one_select[i] = 1\n",
    "            else:\n",
    "                one_select[i] += 1\n",
    "        for i in two_tokens:\n",
    "            i = str(i).split(\"'\")\n",
    "            i = i[1]+\" \"+1[3]\n",
    "            if i not in two_select:\n",
    "                two_select[i] = 1\n",
    "            else:\n",
    "                two_select[i] += 1\n",
    "        for i in three_tokens:\n",
    "            i = str(i).split(\"'\")\n",
    "            i = i[1]+\" \"+1[3]+\" \"+i[5]\n",
    "            if i not in two_select:\n",
    "                two_select[i] = 1\n",
    "            else:\n",
    "                two_select[i] += 1\n",
    "        df_one_select = \n",
    "        df_two_select =\n",
    "        df_three_select = "
   ]
  }
 ],
 "metadata": {
  "kernelspec": {
   "display_name": "Python [conda env:py37]",
   "language": "python",
   "name": "conda-env-py37-py"
  },
  "language_info": {
   "codemirror_mode": {
    "name": "ipython",
    "version": 3
   },
   "file_extension": ".py",
   "mimetype": "text/x-python",
   "name": "python",
   "nbconvert_exporter": "python",
   "pygments_lexer": "ipython3",
   "version": "3.7.9"
  }
 },
 "nbformat": 4,
 "nbformat_minor": 4
}
